{
 "cells": [
  {
   "cell_type": "markdown",
   "metadata": {},
   "source": [
    "Derek Haynes\n",
    "\n",
    "Math 303\n",
    "\n",
    "Midterm \n"
   ]
  },
  {
   "cell_type": "markdown",
   "metadata": {},
   "source": [
    "### Problem #1 \n",
    "\n",
    "Given: Consider the Matrix find all the values for h so that the column vectors of A span $R^3$\n",
    "\n",
    "$A = \\begin{bmatrix}1&-5&1\\\\-1&7&1\\\\3&-13&h\\end{bmatrix}$\n",
    "\n"
   ]
  },
  {
   "cell_type": "markdown",
   "metadata": {},
   "source": [
    "Solution: \n",
    "\n",
    "step 1: $R_2 \\rightarrow R_1+R_2$\n",
    "\n",
    "$A = \\begin{bmatrix}1&-5&1\\\\0&2&2\\\\3&-13&h\\end{bmatrix}$\n",
    "\n",
    "step 2: $R_3 \\rightarrow -3R_1+R_3$\n",
    "\n",
    "$A = \\begin{bmatrix}1&-5&1\\\\0&2&2\\\\0&2&h-3\\end{bmatrix}$\n",
    "\n",
    "step 3: $R_3 \\rightarrow -R_2 + R_3$\n",
    "\n",
    "$A = \\begin{bmatrix}1&-5&1\\\\0&2&2\\\\0&0&h-5\\end{bmatrix}$\n",
    "\n",
    "step 4: $R_2 \\rightarrow \\frac{1}{2}R_2$\n",
    "\n",
    "$A = \\begin{bmatrix}1&-5&1\\\\0&1&1\\\\0&0&h-5\\end{bmatrix}$\n",
    "\n",
    "\n",
    "`solution` h = 5 for the column vector to exist in the span of the first two columns\n"
   ]
  },
  {
   "cell_type": "markdown",
   "metadata": {},
   "source": [
    "# Problem 2: \n",
    "\n",
    "Given: Consider the matrix\n",
    "\n",
    "$B = \\begin{bmatrix}1&0&0\\\\2&1&0\\\\3&2&1\\end{bmatrix} $\n",
    "\n",
    "a. Use elemtary row operations to determine the inverse $B^{-1}$"
   ]
  },
  {
   "cell_type": "markdown",
   "metadata": {},
   "source": [
    "Step 1.\n",
    "\n",
    "$\\begin{bmatrix}1&0&0&1&0&0\\\\2&1&0&0&1&0\\\\3&2&1&0&0&1\\end{bmatrix}$"
   ]
  },
  {
   "cell_type": "markdown",
   "metadata": {},
   "source": [
    "Step 2. $R_2 \\rightarrow -2R_1 +R_2$\n",
    "\n",
    "$\\begin{bmatrix}1&0&0&1&0&0\\\\0&1&0&-2&1&0\\\\3&2&1&0&0&1\\end{bmatrix}$"
   ]
  },
  {
   "cell_type": "markdown",
   "metadata": {},
   "source": [
    "Step 3. $R_3 \\rightarrow -3R_1 +R_3$\n",
    "\n",
    "$\\begin{bmatrix}1&0&0&1&0&0\\\\0&1&0&-2&1&0\\\\0&2&1&-3&0&1\\end{bmatrix}$"
   ]
  },
  {
   "cell_type": "markdown",
   "metadata": {},
   "source": [
    "Step 4. $R_2 \\rightarrow -2R_2 +R_3$\n",
    "\n",
    "$\\begin{bmatrix}1&0&0&1&0&0\\\\0&1&0&-2&1&0\\\\0&0&1&1&-2&1\\end{bmatrix}$"
   ]
  },
  {
   "cell_type": "markdown",
   "metadata": {},
   "source": [
    "`The inverse of the augmented matrix is`\n",
    "\n",
    "$\\begin{bmatrix}1&0&0\\\\-2&1&0\\\\1&-2&1\\end{bmatrix}$"
   ]
  },
  {
   "cell_type": "markdown",
   "metadata": {},
   "source": [
    "b. Explain how the inverse matrix can be used to solve a matrix equation of the form $Bx = b$\n",
    "\n",
    "`Im assuming we want to solve for the unknown column vector of x`\n",
    "\n",
    "Solution:\n",
    "\n",
    "$Bx = b$\n",
    "\n",
    "$B^{-1}Bx = B^{-1}b$\n",
    "\n",
    "$=Ix = {B^1}b$\n",
    "\n",
    "$x = A^{-1}b$\n"
   ]
  },
  {
   "cell_type": "markdown",
   "metadata": {},
   "source": [
    "c.  Use the process described above to solve the system of equations where s is an unspecified parameter\n",
    "\n",
    "Given: \n",
    "$\\begin{matrix}x_1+2x_2+3x_3 = 1\\\\2x_1+x_2+2x_3 =2\\\\3x_1+2x_2+x_3 =s\\end{matrix}$"
   ]
  },
  {
   "cell_type": "markdown",
   "metadata": {},
   "source": [
    "solution :\n",
    "\n",
    "$\\begin{bmatrix}1&2&3\\\\2&1&2\\\\3&2&1\\end{bmatrix} \\begin{bmatrix}x_1\\\\x_2\\\\x_3\\end{bmatrix} = \\begin{bmatrix}1\\\\2\\\\s\\end{bmatrix}$\n"
   ]
  },
  {
   "cell_type": "markdown",
   "metadata": {},
   "source": [
    "step 1. solve for $A^{-1}$\n",
    "\n",
    "$\\begin{bmatrix}1&2&3&1&0&0\\\\2&1&2&0&1&0\\\\3&2&1&0&0&1\\end{bmatrix}$\n",
    "\n",
    "$R_2 \\rightarrow -2R_1+R_2$\n",
    "\n",
    "$\\begin{bmatrix}1&2&3&1&0&0\\\\0&-3&-4&-2&1&0\\\\3&2&1&0&0&1\\end{bmatrix}$\n",
    "\n",
    "$R_3 \\rightarrow -3R_1 + R_3$\n",
    "\n",
    "$\\begin{bmatrix}1&2&3&1&0&0\\\\0&-3&-4&-2&1&0\\\\0&-4&-8&-3&0&1\\end{bmatrix}$\n",
    "\n",
    "$R_2 \\longleftrightarrow R_3$\n",
    "\n",
    "$\\begin{bmatrix}1&2&3&1&0&0\\\\0&-4&-8&-3&0&1\\\\0&-3&-4&-2&1&0\\end{bmatrix}$\n",
    "\n",
    "$R_3 \\rightarrow -\\frac{3}{4}R_2 + R_3$\n",
    "\n",
    "$\\begin{bmatrix}1&2&3&1&0&0\\\\0&-4&-8&-3&0&1\\\\0&0&2&\\frac{1}{4}&1&\\frac{-3}{4}\\end{bmatrix}$\n",
    "\n",
    "$R_3 \\rightarrow \\frac{1}{2}R_2$\n",
    "\n",
    "$\\begin{bmatrix}1&2&3&1&0&0\\\\0&-4&-8&-3&0&1\\\\0&0&1&\\frac{1}{8}&\\frac{1}{2}&\\frac{-3}{8}\\end{bmatrix}$"
   ]
  },
  {
   "cell_type": "markdown",
   "metadata": {},
   "source": [
    "$R_2 \\rightarrow 8R_3 + R_2$\n",
    "\n",
    "$\\begin{bmatrix}1&2&3&1&0&0\\\\0&-4&0&-2&4&-2\\\\0&0&1&\\frac{1}{8}&\\frac{1}{2}&\\frac{-3}{8}\\end{bmatrix}$\n",
    "\n",
    "$R_1 \\rightarrow -3R_3+R_1$\n",
    "\n",
    "$\\begin{bmatrix}1&2&0&\\frac{5}{8}&\\frac{-3}{2}&\\frac{9}{8}\\\\0&-4&0&-2&4&-2\\\\0&0&1&\\frac{1}{8}&\\frac{1}{2}&\\frac{-3}{8}\\end{bmatrix}$\n",
    "\n"
   ]
  },
  {
   "cell_type": "markdown",
   "metadata": {},
   "source": [
    " $R_2 \\rightarrow \\frac{-1}{4}R_2$\n",
    "\n",
    "$\\begin{bmatrix}1&2&0&\\frac{5}{8}&\\frac{-3}{2}&\\frac{9}{8}\\\\0&1&0&\\frac{1}{2}&-1&\\frac{1}{2}\\\\0&0&1&\\frac{1}{8}&\\frac{1}{2}&\\frac{-3}{8}\\end{bmatrix}$\n",
    "\n",
    "$R_1 \\rightarrow -2R_2+R_1$\n",
    "\n",
    "$\\begin{bmatrix}1&0&0&\\frac{-3}{8}&\\frac{1}{2}&\\frac{1}{8}\\\\0&1&0&\\frac{1}{2}&-1&\\frac{1}{2}\\\\0&0&1&\\frac{1}{8}&\\frac{1}{2}&\\frac{-3}{8}\\end{bmatrix}$\n",
    "\n"
   ]
  },
  {
   "cell_type": "markdown",
   "metadata": {},
   "source": [
    "$A^{-1} = \\begin{bmatrix}\\frac{-3}{8}&\\frac{1}{2}&\\frac{1}{8}\\\\\\frac{1}{2}&-1&\\frac{1}{2}\\\\\\frac{1}{8}&\\frac{1}{2}&\\frac{-3}{8}\\end{bmatrix}$"
   ]
  },
  {
   "cell_type": "markdown",
   "metadata": {},
   "source": [
    "$x = A^{-1}\\cdot b  = \\begin{bmatrix}\\frac{-3}{8}&\\frac{1}{2}&\\frac{1}{8}\\\\\\frac{1}{2}&-1&\\frac{1}{2}\\\\\\frac{1}{8}&\\frac{1}{2}&\\frac{-3}{8}\\end{bmatrix} \\cdot \\begin{bmatrix}1\\\\2\\\\s\\end{bmatrix}$"
   ]
  },
  {
   "cell_type": "markdown",
   "metadata": {},
   "source": [
    "$x = \\begin{bmatrix}\\frac{s}{8}+\\frac{5}{8}\\\\\\frac{s}{2}-\\frac{3}{2}\\\\\\frac{9}{8}-\\frac{3s}{8}\\end{bmatrix}$"
   ]
  },
  {
   "cell_type": "markdown",
   "metadata": {},
   "source": [
    "### Problem 3\n",
    "\n",
    "Given : $C = \\begin{bmatrix}3&-5&0&-1&3\\\\-7&9&-4&9&-11\\\\-5&7&-2&5&-7\\\\3&-7&-3&4&0\\end{bmatrix}$\n",
    "\n",
    "a) Find linearly independent vectors that span the Null Space of C"
   ]
  },
  {
   "cell_type": "markdown",
   "metadata": {},
   "source": [
    "Solution: \n",
    "\n",
    "$[A0] = \\begin{bmatrix}3&-5&0&-1&3&0\\\\-7&9&-4&9&-11&0\\\\-5&7&-2&5&-7&0\\\\3&-7&-3&4&0&0\\end{bmatrix}$\n",
    "\n",
    "\n"
   ]
  },
  {
   "cell_type": "markdown",
   "metadata": {},
   "source": [
    "Using RREF function of the ti-84\n",
    "\n",
    "$\\begin{bmatrix}1&0&\\frac{5}{2}&\\frac{-9}{2}&\\frac{7}{2}&0\\\\0&1&\\frac{3}{2}&\\frac{-5}{2}&\\frac{3}{2}&0\\\\0&0&0&0&0&0\\\\0&0&0&0&0&0\\end{bmatrix}$\n",
    "\n",
    "\n",
    "\n",
    "~$\\begin{bmatrix}1&0&\\frac{5}{2}&\\frac{-9}{2}&\\frac{7}{2}\\\\0&1&\\frac{3}{2}&\\frac{-5}{2}&\\frac{3}{2}\\\\0&0&0&0&0\\\\0&0&0&0&0\\end{bmatrix}\\cdot\\begin{bmatrix}x_1\\\\x_2\\\\x_3\\\\x_4\\\\x_5\\end{bmatrix} = \\begin{bmatrix}0\\\\0\\\\0\\\\0\\\\0\\end{bmatrix}$ \n",
    "\n",
    "= $\\begin{matrix}x_1+\\frac{5}{2}x_3-\\frac{9}{2}x_4+\\frac{7}{2}x_5\\\\x_2+\\frac{3}{2}x_3-\\frac{5}{2}x_4+\\frac{3}{2}x_5\\\\0\\\\0\\end{matrix} = \\begin{matrix}0\\\\0\\\\0\\\\0\\end{matrix}$"
   ]
  },
  {
   "cell_type": "markdown",
   "metadata": {},
   "source": [
    "$x_3, x_4, x_5$ are free"
   ]
  },
  {
   "cell_type": "markdown",
   "metadata": {},
   "source": [
    "$\\begin{bmatrix}x_1\\\\x_2\\\\x_3\\\\x_4\\\\x_5\\end{bmatrix}  = \\begin{bmatrix} -\\frac{5}{2}x_3+\\frac{9}{2}x_4-\\frac{7}{2}x_5\\\\-\\frac{3}{2}x_3+\\frac{5}{2}x_4-\\frac{3}{2}x_5\\\\x_3\\\\x_4\\\\x_5\\end{bmatrix} = x_3\\begin{bmatrix}\\frac{-5}{2}\\\\\\frac{-3}{2}\\\\1\\\\0\n",
    "\\\\0\\end{bmatrix} +x_4\\begin{bmatrix}\\frac{9}{2}\\\\\\frac{5}{2}\\\\0\\\\1\\\\0\\end{bmatrix}+x_5\\begin{bmatrix}\\frac{-7}{2}\\\\\\frac{-3}{2}\\\\0\\\\0\\\\1\\end{bmatrix}$ "
   ]
  },
  {
   "cell_type": "markdown",
   "metadata": {},
   "source": [
    "the basis for $NULL C$ are the vectors $\\begin{bmatrix}\\frac{-5}{2}\\\\\\frac{-3}{2}\\\\1\\\\0\n",
    "\\\\0\\end{bmatrix},\\begin{bmatrix}\\frac{9}{2}\\\\\\frac{5}{2}\\\\0\\\\1\\\\0\\end{bmatrix},\\begin{bmatrix}\\frac{-7}{2}\\\\\\frac{-3}{2}\\\\0\\\\0\\\\1\\end{bmatrix}$ "
   ]
  },
  {
   "cell_type": "markdown",
   "metadata": {},
   "source": [
    "b)Find linearly independent vectors that span the column space of C \n",
    "\n",
    "$C = \\begin{bmatrix}3&-5&0&-1&3\\\\-7&9&-4&9&-11\\\\-5&7&-2&5&-7\\\\3&-7&-3&4&0\\end{bmatrix}$ \n",
    "\n",
    "using ti-84's rref function, the matrix is row reduced to\n",
    "\n",
    "~$\\begin{bmatrix}1&0&\\frac{5}{2}&\\frac{-9}{2}&\\frac{7}{2}\\\\0&1&\\frac{3}{2}&\\frac{-5}{2}&\\frac{3}{2}\\\\0&0&0&0&0\\\\0&0&0&0&0\\end{bmatrix}$\n",
    "\n",
    "we can see that pivot columns are $c_1, c_2$ and these pivot columns form the basis for $Col B$\n",
    "\n",
    "$c_1 = \\begin{bmatrix}3\\\\-7\\\\-5\\\\3\\end{bmatrix}, c_2 = \\begin{bmatrix}-5\\\\9\\\\7\\\\-7\\end{bmatrix}$"
   ]
  },
  {
   "cell_type": "markdown",
   "metadata": {},
   "source": [
    "c) do the columns of C span $\\mathbb{R^4}?$\n",
    "\n",
    "Solution: \n",
    "\n",
    "No, there are pivot columns only in rows 1 and 2 of the reduced echeleon of matrix C and therefore the $4x5$ matrix doesn't have a pivot column in every row and cannot form the basis of $\\mathbb{R^4}$ "
   ]
  },
  {
   "cell_type": "markdown",
   "metadata": {},
   "source": [
    "d) Consider the linear transformation of T: $\\mathbb{R^5}\\rightarrow \\mathbb{R^4}$ given by $x \\rightarrow Cx$. is $b = \\begin{bmatrix}4\\\\-4\\\\-4\\\\8\\end{bmatrix}$ in the range of the linear Transformation?\n"
   ]
  },
  {
   "cell_type": "markdown",
   "metadata": {},
   "source": [
    "Solution: Yes T does map $\\mathbb{R^5} \\rightarrow \\mathbb{R^4}$ because the system is consistent.  \n",
    "\n",
    "\n",
    "$[Cb] = \\begin{bmatrix}3&-5&0&-1&3&4\\\\-7&9&-4&9&-11&-4\\\\-5&7&-2&5&-7&-4\\\\3&-7&-3&4&0&8\\end{bmatrix}$\n",
    "\n",
    "Row reduced\n",
    "\n",
    "~$\\begin{bmatrix}1&0&\\frac{5}{2}&\\frac{-9}{2}&\\frac{7}{2}&-2\\\\0&1&\\frac{3}{2}&\\frac{-5}{2}&\\frac{3}{2}&-2\\\\0&0&0&0&0&0\\\\0&0&0&0&0&0\\end{bmatrix}$\n",
    "\n",
    "In fact, there are infinitely many solutions. \n",
    "\n"
   ]
  },
  {
   "cell_type": "markdown",
   "metadata": {},
   "source": [
    "# Problem 4"
   ]
  },
  {
   "cell_type": "markdown",
   "metadata": {},
   "source": [
    "Given: $B = \\begin{bmatrix}1&0&1\\\\1&1&2\\\\1&2&1\\end{bmatrix}$"
   ]
  },
  {
   "cell_type": "markdown",
   "metadata": {},
   "source": [
    "a) Use elementary row oparations to compute $det B$"
   ]
  },
  {
   "cell_type": "markdown",
   "metadata": {},
   "source": [
    "solution: \n",
    "\n",
    "$R_2 \\rightarrow -R_1+R_2$\n",
    "\n",
    "$= \\begin{bmatrix}1&0&1\\\\0&1&1\\\\1&2&1\\end{bmatrix}$\n",
    "\n",
    "$R_3 \\rightarrow -R_1+R_3$\n",
    "\n",
    "$= \\begin{bmatrix}1&0&1\\\\0&1&1\\\\0&2&0\\end{bmatrix}$\n",
    "\n",
    "$R3 \\rightarrow -2R_2+R_3$\n",
    "\n",
    "$= \\begin{bmatrix}1&0&1\\\\0&1&1\\\\0&0&-2\\end{bmatrix}$\n",
    "\n",
    "Theorem 2: determinant of an upper triangular matrix is the product of its diagonal elements\n",
    "\n",
    "$detB = 1\\cdot1(-2) = -2$"
   ]
  },
  {
   "cell_type": "markdown",
   "metadata": {},
   "source": [
    "b) find $det(B^5)$\n",
    "\n",
    "Solution: \n",
    "\n",
    "knowing $det(B^5) = (detB)^5$\n",
    "\n",
    "$(-2)^5 = -32$"
   ]
  },
  {
   "cell_type": "markdown",
   "metadata": {},
   "source": [
    "# Problem 5"
   ]
  },
  {
   "cell_type": "markdown",
   "metadata": {},
   "source": [
    "Given: Use appropriate techniques to determine whether the vectors below are linearly independent. \n",
    "\n",
    "$\\begin{bmatrix}3\\\\5\\\\-6\\end{bmatrix}, \\begin{bmatrix}2\\\\-6\\\\0\\end{bmatrix}, \\begin{bmatrix}-2\\\\-1\\\\3\\end{bmatrix}$"
   ]
  },
  {
   "cell_type": "markdown",
   "metadata": {},
   "source": [
    "Solution: \n",
    "\n",
    "The augmented matrix for a homogenous system\n",
    "\n",
    "$[A0] = \\begin{bmatrix} 3&2&-2&0\\\\5&-6&-1&0\\\\-6&0&3&0\\end{bmatrix}$\n",
    "\n",
    "Row reduce to echelon form using ti-84\n",
    "\n",
    "$= \\begin{bmatrix}1&0&-\\frac{1}{2}&0\\\\0&1&-\\frac{1}{4}&0\\\\0&0&0&0\\end{bmatrix}$\n"
   ]
  },
  {
   "cell_type": "markdown",
   "metadata": {},
   "source": [
    "The vectors are linearly dependent because $x_3$ is free "
   ]
  },
  {
   "cell_type": "markdown",
   "metadata": {},
   "source": [
    "$\\begin{matrix} x_1 -\\frac{1}{2}x_3 = 0 \\\\ x_2 -\\frac{1}{4}x_3 = 0 \\\\ 0 =0 \\end{matrix}$\n",
    "\n",
    "$x_1 = \\frac{1}{2}x_3$\n",
    "\n",
    "$x_2 = \\frac{1}{4}x_3$"
   ]
  },
  {
   "cell_type": "markdown",
   "metadata": {},
   "source": [
    "Therefore there are infinitely many dependence relationships between $x_1$ and $x_2$ since they are defined by $x_3$"
   ]
  },
  {
   "cell_type": "markdown",
   "metadata": {},
   "source": [
    "# Problem 6"
   ]
  },
  {
   "cell_type": "markdown",
   "metadata": {},
   "source": [
    "Given: Suppose that $A$ and $P$ are square $n x n$ matrices and that $P$ is invertible, Prove that the $det(P^{-1}AP) = det(A)$ "
   ]
  },
  {
   "cell_type": "markdown",
   "metadata": {},
   "source": [
    "Solution:\n",
    "\n",
    "`by associateve property`\n",
    "\n",
    "$det(P^{-1}AP) = det(P^{-1})det(A)det(P)$  \n",
    "\n",
    "`determinants can be multiplied in a commutative manner`\n",
    "\n",
    "$=det(P^{-1}det(P)det(A)$ \n",
    "\n",
    "\n",
    "$=det(P^{-1detP)det(A)$\n",
    "\n",
    "$=det(I)det(A)$ \n",
    "\n",
    "$=1det(A)$\n",
    "\n",
    "= det(A)\n"
   ]
  },
  {
   "cell_type": "markdown",
   "metadata": {},
   "source": [
    "# Problem 7 "
   ]
  },
  {
   "cell_type": "markdown",
   "metadata": {},
   "source": [
    "Given: Suppose $T: \\mathbb{R^3}\\rightarrow\\mathbb{R^4}$ is a linear transformation.  We do not know much about this transformation, except that:\n",
    "\n",
    "$T(\\begin{bmatrix}1\\\\2\\\\0\\end{bmatrix}) = \\begin{bmatrix}3\\\\-1\\\\4\\\\1\\end{bmatrix}$ and \n",
    "\n",
    "$T(\\begin{bmatrix}-1\\\\3\\\\1\\end{bmatrix}) = \\begin{bmatrix}-1\\\\1\\\\0\\\\2\\end{bmatrix}$\n",
    "\n",
    "\n",
    "Find $T(\\begin{bmatrix}1\\\\7\\\\1\\end{bmatrix})$ "
   ]
  },
  {
   "cell_type": "markdown",
   "metadata": {},
   "source": [
    "Solution: \n",
    "\n",
    "$\\begin{bmatrix}1\\\\7\\\\1\\end{bmatrix} = x_1\\begin{bmatrix}1\\\\2\\\\0\\end{bmatrix}+x_2\\begin{bmatrix}-1\\\\3\\\\1\\end{bmatrix}$"
   ]
  },
  {
   "cell_type": "markdown",
   "metadata": {},
   "source": [
    "$\\begin{matrix} 1 = x_1-x_2 \\\\7 = 2x_1 + 3x_2\\\\ 1 = x_2 \\end{matrix}$\n",
    "\n",
    "Therefore $x_2 = 1$ and $x_1 = 2$"
   ]
  },
  {
   "cell_type": "markdown",
   "metadata": {},
   "source": [
    "$T(\\begin{bmatrix}1\\\\7\\\\1\\end{bmatrix}) = T(2\\begin{bmatrix}1\\\\2\\\\0\\end{bmatrix}+\\begin{bmatrix}-1\\\\3\\\\1\\end{bmatrix}) = 2\\begin{bmatrix}3\\\\-1\\\\4\\\\1\\end{bmatrix} + \\begin{bmatrix}-1\\\\1\\\\0\\\\2\\end{bmatrix} = \\begin{bmatrix}5\\\\-1\\\\8\\\\4\\end{bmatrix}$\n",
    "\n",
    "$T(\\begin{bmatrix}1\\\\7\\\\1\\end{bmatrix}) = \\begin{bmatrix}5\\\\-1\\\\8\\\\4\\end{bmatrix}$"
   ]
  },
  {
   "cell_type": "markdown",
   "metadata": {},
   "source": [
    "# Problem 8\n",
    "\n",
    "Given: Use Cramer's rule to solve the system of equations below. \n",
    "\n",
    "$\\begin{matrix}4x_1 + x_2 = 6 \\\\ 3x_1+2x_2 = 7\\end{matrix}$"
   ]
  },
  {
   "cell_type": "markdown",
   "metadata": {},
   "source": [
    "Solution:\n",
    "\n",
    "$A = \\begin{bmatrix}4&1\\\\3&2\\end{bmatrix}$\n",
    "\n",
    "$A_1(b) = \\begin{bmatrix}6&1\\\\7&2\\end{bmatrix}$\n",
    "\n",
    "$A_2(b) = \\begin{bmatrix}4&6\\\\3&7\\end{bmatrix}$"
   ]
  },
  {
   "cell_type": "markdown",
   "metadata": {},
   "source": [
    "$det A = 28-18 = 10$\n",
    "\n",
    "$x_1 = \\frac{detA_1(b)}{detA} = \\frac{12-7}{5} = 1$\n",
    "\n",
    "\n",
    "$x_2 = \\frac{detA_2(b)}{detA} = \\frac{28-18}{5} = 2$"
   ]
  },
  {
   "cell_type": "markdown",
   "metadata": {},
   "source": [
    "# Problem 9 \n",
    "\n",
    "Given: For each problem below, write an augmented matrix in reduced row echelon form where the last row is all zeros, and the associated system of equations has the indicated property.  For simplicity, use an augment matrix with 4 rows and 4 columns. "
   ]
  },
  {
   "cell_type": "markdown",
   "metadata": {},
   "source": [
    "a) The system has infinitely many solutions:\n",
    "\n",
    "\n",
    "$\\begin{bmatrix}1&0&0&1\\\\0&1&0&2\\\\0&0&1&3\\\\0&0&0&0\\end{bmatrix}$\n",
    "\n",
    "\n",
    "since $x_3$ is free you have infinitely many possible non-trivial solutions \n",
    "\n",
    "b) The system has a unique solution: \n",
    "\n",
    "$\\begin{bmatrix}1&0&0&1\\\\0&1&0&2\\\\0&0&1&3\\\\\\end{bmatrix}$\n",
    "\n",
    "because all column vectors are linearly independent, the system has one unique solution\n",
    "\n",
    "c) The system has no solutions: \n",
    "\n",
    "$\\begin{bmatrix}1&0&0&1\\\\0&1&0&2\\\\0&0&1&3\\\\0&0&0&4\\end{bmatrix}$\n",
    "\n",
    "$x_1+0+0+0 = 1$\n",
    "\n",
    "$0+x_2+0+0 = 2$\n",
    "\n",
    "$0+0+0+x_3 = 3$\n",
    "\n",
    "$0+0+0+0 \\neq 4$\n"
   ]
  },
  {
   "cell_type": "code",
   "execution_count": null,
   "metadata": {},
   "outputs": [],
   "source": []
  },
  {
   "cell_type": "code",
   "execution_count": null,
   "metadata": {},
   "outputs": [],
   "source": []
  }
 ],
 "metadata": {
  "kernelspec": {
   "display_name": "R",
   "language": "R",
   "name": "ir"
  },
  "language_info": {
   "codemirror_mode": "r",
   "file_extension": ".r",
   "mimetype": "text/x-r-source",
   "name": "R",
   "pygments_lexer": "r",
   "version": "3.6.1"
  }
 },
 "nbformat": 4,
 "nbformat_minor": 2
}
