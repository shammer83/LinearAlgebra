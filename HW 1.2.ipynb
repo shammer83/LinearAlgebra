{
 "cells": [
  {
   "cell_type": "markdown",
   "metadata": {},
   "source": [
    "### 1.2.8\n",
    "\n",
    "#### Find the General Solution\n",
    "\n",
    "$\\begin{bmatrix}\n",
    " 1&4&0&7\\\\\n",
    " 2&7&0&10\\\\\n",
    "\\end{bmatrix}$"
   ]
  },
  {
   "cell_type": "markdown",
   "metadata": {},
   "source": [
    "#### Step 1 : Subtract 2*Row 1 from Row 2\n",
    "#### Step 2: -1 * Row2\n",
    "#### Step 3: Subtract 4 * Row 2 from Row 1\n",
    "\n",
    "$\\begin{bmatrix}\n",
    " 1&0&0&-9\\\\\n",
    " 0&1&0&4\\\\\n",
    "\\end{bmatrix}$"
   ]
  },
  {
   "cell_type": "markdown",
   "metadata": {},
   "source": [
    "#### Solution \n",
    "\n",
    "\n",
    "$\\begin{matrix}\n",
    "x_1 = -9\\\\\n",
    "x_2 = 4\\\\\n",
    "x_3 = is free\\\\\n",
    "\\end{matrix}$"
   ]
  },
  {
   "cell_type": "markdown",
   "metadata": {},
   "source": [
    "### 1.2.10\n",
    "\n",
    "$\\begin{bmatrix}\n",
    "1&-2&-1&-3\\\\\n",
    "3&-6&-2&2\n",
    "\\end{bmatrix}$"
   ]
  },
  {
   "cell_type": "markdown",
   "metadata": {},
   "source": [
    "#### Step 1: Add -3*Row 1 to Row 2 - thus replacing Row 2\n",
    "#### Step 2:  Add row 2 to row 1\n",
    "\n",
    "$\\begin{bmatrix}\n",
    "1&-2&0&-4\\\\\n",
    "0&0&1&-7\\end{bmatrix}$"
   ]
  },
  {
   "cell_type": "markdown",
   "metadata": {},
   "source": [
    "#### Solution:\n",
    "$\\begin{cases}\n",
    "x_1 = -4+2x_2\\\\\n",
    "x_2 = is free \\\\\n",
    "x_3 = -7 \n",
    "\\end{cases}$"
   ]
  },
  {
   "cell_type": "markdown",
   "metadata": {},
   "source": [
    "# 1.2.14\n",
    "\n",
    "#### Initial Augmented Matrix\n",
    "$\\begin{bmatrix}\n",
    "1&2&-5&-6&0&-5\\\\\n",
    "0&1&-6&-3&0&2\\\\\n",
    "0&0&0&0&1&0\\\\\n",
    "0&0&0&0&0&0\n",
    "\\end{bmatrix}$\n"
   ]
  },
  {
   "cell_type": "markdown",
   "metadata": {},
   "source": [
    "#### Step 1: Add -2*(row 2) to row 1 to get\n",
    "\n",
    "$\\begin{bmatrix}\n",
    "1&0&7&0&0&-9\\\\\n",
    "0&1&-6&-3&0&2\\\\\n",
    "0&0&0&0&1&0\\\\\n",
    "0&0&0&0&0&0\\end{bmatrix}$"
   ]
  },
  {
   "cell_type": "markdown",
   "metadata": {},
   "source": [
    "$\\begin{matrix}\n",
    "x_1+7x_3 = -9\\\\\n",
    "x_2-6x_3-3x_4 = 2\\\\\n",
    "x_5 = 0\\end{matrix}$\n",
    "\n",
    "#### Solution\n",
    "\n",
    "$\\begin{cases}\n",
    "x_1 = -9-7x_3\\\\\n",
    "x_2 = 2+6x_3+3x_4\\\\\n",
    "x_3 = is free\\\\\n",
    "x_4 = is free\\\\\n",
    "x_5 = 0 \\end{cases}$"
   ]
  },
  {
   "cell_type": "code",
   "execution_count": null,
   "metadata": {},
   "outputs": [],
   "source": []
  }
 ],
 "metadata": {
  "kernelspec": {
   "display_name": "Python 3",
   "language": "python",
   "name": "python3"
  },
  "language_info": {
   "codemirror_mode": {
    "name": "ipython",
    "version": 3
   },
   "file_extension": ".py",
   "mimetype": "text/x-python",
   "name": "python",
   "nbconvert_exporter": "python",
   "pygments_lexer": "ipython3",
   "version": "3.7.3"
  }
 },
 "nbformat": 4,
 "nbformat_minor": 2
}
