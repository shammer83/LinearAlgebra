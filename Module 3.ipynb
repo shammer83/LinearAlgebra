{
 "cells": [
  {
   "cell_type": "markdown",
   "metadata": {},
   "source": [
    "# Module 3"
   ]
  },
  {
   "cell_type": "markdown",
   "metadata": {},
   "source": [
    "## 2.1.11 \n",
    "\n",
    "Let $A = \\begin{bmatrix}1&1&1\\\\1&2&3\\\\1&4&5\\end{bmatrix}$ and $D = \\begin{bmatrix}2&0&0\\\\0&3&0\\\\0&0&5\\end{bmatrix}$. Compute AD and DA.  Explain how the columns or rows of Achange when A is multiplied by D on the right or on the left.  Find a 3x3 matrix B, not the identity matrx or the zero matrix such that AB = BA. \n",
    "\n"
   ]
  },
  {
   "cell_type": "markdown",
   "metadata": {},
   "source": [
    "Solution: \n",
    "\n",
    "$AD = \\begin{bmatrix} 1*2+1*0+1*0 & 1*0+1*3+1*0 & 1*0+1*0+1*5\\\\ 1*2+2*0+3*0 & 1*0 + 2*3+3*0 & 1*0+2*0+3*5 \\\\ 1*2+4*0+5*0 & 1*0+4*3+5*0 & 1*0 +4*0+5*5\n",
    "    \\end{bmatrix} = \\begin{bmatrix} 2 & 3 &5 \\\\ 2& 6 &15 \\\\ 2&12&25\\end{bmatrix}$\n",
    "    \n",
    "    "
   ]
  },
  {
   "cell_type": "markdown",
   "metadata": {},
   "source": [
    "$DA = \\begin{bmatrix}2&2&2\\\\3&6&9\\\\5&20&25\\end{bmatrix}$"
   ]
  },
  {
   "cell_type": "markdown",
   "metadata": {},
   "source": [
    "To find a 3x3 matrix $B$ such that $AB = BA$\n",
    "\n",
    "We chose $B$ to any multiple of the identity matrix $I_3$\n",
    "\n",
    "B "
   ]
  },
  {
   "cell_type": "markdown",
   "metadata": {},
   "source": [
    "## 2.1.29\n",
    "\n",
    "Prove theorem 2(b) and 2(c).  Use the row-column rule. The (i,j)-entry in A(B+C) can be written as: \n",
    "\n",
    "$a_{i1}b_{ij}+...+a_{in}(b_{nj}+c_{nj})$ or $\\sum\\limits^{n}_{k=0}a_{ik}(b_{kj}+c_{kj})$"
   ]
  },
  {
   "cell_type": "markdown",
   "metadata": {},
   "source": [
    "#### Solution: \n",
    "\n",
    "##### Part 1 \n",
    "\n",
    "Theorem (2b): A(B+C) = AB+AC `the left distributive law`\n",
    "\n",
    "Multiplication of two matrices is possible when number of rows in the first matrix is equal to the number of columns in the second matrix \n",
    "\n",
    "the $(i,j)^{th}$ entry of $A(B+C) = \\sum\\limits^{n}_{k=0}a_{ik}(b_{kj}+c_{kj})$  \n",
    "\n",
    " $ = a_{i1}(b_{ij}+c_{ij})...+a_{in}(b_{nj}+c_{nj})$\n",
    " \n",
    " $ = a_{i1}b_{ij}+a_{ij}c_{ij}...+a_{in}b_{nj}+a_{in}c_{nj} $\n",
    " \n",
    " $ = (a_{i1}b_{1j}+...+a_{in}b_{nj})+(a_{i1}c_{1j}+...+a_{in}c_{nj})$ \n",
    " \n",
    " there for\n",
    " \n",
    " $\\sum\\limits^{n}_{k=0}a_{ik}b_{kj} + \\sum\\limits^{n}_{k=0}a_{ik}c_{kj}$\n",
    " \n",
    " and the $(i,j)^{th}$ entry in $(AB+AC)$"
   ]
  },
  {
   "cell_type": "markdown",
   "metadata": {},
   "source": [
    "##### Part 2 \n",
    "Theorem 2(c): (B+C)A = BA + CA  `the right distributive law`"
   ]
  },
  {
   "cell_type": "markdown",
   "metadata": {},
   "source": [
    "the $(i,j)^{th}$ entry of $(B+C))A = \\sum\\limits^{n}_{k=0}(b_{kj}+c_{kj})a_{kj}$ \n"
   ]
  },
  {
   "cell_type": "markdown",
   "metadata": {},
   "source": [
    "= $(b_{i1}+c_{i1})a_{i1}+...+(b_{in}+c_{in})a_{in}$\n",
    "\n",
    "= $b_{i1}a_{i1}+c_{i1}a_{i1}+...+b_{in}a_{in}+c_{in}a_{in}$\n",
    "\n",
    "= $(b_{i1}a_{i1}+b_{in}a_{in})+...+(c_{i1}a_{i1}+c_{in}a_{in})$\n",
    "\n",
    " there for\n",
    " \n",
    " $\\sum\\limits^{n}_{k=0}b_{ik}a_{kj} + \\sum\\limits^{n}_{k=0}c_{ik}a_{kj}$\n",
    " \n",
    " and the $(i,j)^{th}$ entry in $(BA+CA)$\n",
    "\n"
   ]
  },
  {
   "cell_type": "code",
   "execution_count": null,
   "metadata": {},
   "outputs": [],
   "source": []
  },
  {
   "cell_type": "markdown",
   "metadata": {},
   "source": [
    "## 2.1.30"
   ]
  },
  {
   "cell_type": "markdown",
   "metadata": {},
   "source": [
    "## 2.1.33"
   ]
  },
  {
   "cell_type": "code",
   "execution_count": null,
   "metadata": {},
   "outputs": [],
   "source": []
  }
 ],
 "metadata": {
  "kernelspec": {
   "display_name": "R",
   "language": "R",
   "name": "ir"
  },
  "language_info": {
   "codemirror_mode": "r",
   "file_extension": ".r",
   "mimetype": "text/x-r-source",
   "name": "R",
   "pygments_lexer": "r",
   "version": "3.6.1"
  }
 },
 "nbformat": 4,
 "nbformat_minor": 2
}
