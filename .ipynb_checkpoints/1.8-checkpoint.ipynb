{
 "cells": [
  {
   "cell_type": "markdown",
   "metadata": {},
   "source": [
    "                                                                                        Derek Haynes\n",
    "                                                                                        Math 303\n",
    "                                                                                        HW 1.8"
   ]
  },
  {
   "cell_type": "markdown",
   "metadata": {},
   "source": [
    "# 1.8.6\n",
    "\n",
    "Given: Find a vector X whose image under T is b, and determine x in unique. \n",
    "\n",
    "$A = \\begin{bmatrix}1&-2&1\\\\3&-4&5\\\\0&1&1\\\\-3&5&-4\\end{bmatrix}, b = \\begin{bmatrix}1\\\\9\\\\3\\\\-6\\end{bmatrix}$\n",
    "\n"
   ]
  },
  {
   "cell_type": "markdown",
   "metadata": {},
   "source": [
    "Solution: \n",
    "\n",
    "Step 1. Create the Augmented Matrix and Row Reduce\n",
    "\n",
    "$\\begin{bmatrix}1&-2&1&1\\\\3&-4&5&9\\\\0&1&1&3\\\\-3&5&-4&-6 \\end{bmatrix} = \\begin{bmatrix}1&0&3&7\\\\0&1&1&3\\\\0&0&0&0\\\\0&0&0&0\\end{bmatrix}$\n"
   ]
  },
  {
   "cell_type": "markdown",
   "metadata": {},
   "source": [
    "`Answer` x is not unique since there is a free variable with $x_3$.  There are infinitely many solutions"
   ]
  },
  {
   "cell_type": "markdown",
   "metadata": {},
   "source": [
    "# 1.8.10\n",
    "\n",
    "Given: Find all x in $\\mathbb{R^4}$ that are mapped into the zero vector by the transformation of $x \\rightarrow Ax$\n",
    "\n",
    "$A = \\begin{bmatrix}1&3&9&2\\\\1&0&3&-4\\\\0&1&2&3\\\\-2&3&0&5\\end{bmatrix}$"
   ]
  },
  {
   "cell_type": "markdown",
   "metadata": {},
   "source": [
    "Solution: \n",
    "\n",
    "Step 1 : \n",
    "\n",
    "$[A0] = \\begin{bmatrix}1&3&9&2&0\\\\1&0&3&-4&0\\\\0&1&2&3&0\\\\-2&3&0&5&0\\end{bmatrix}$\n",
    "\n",
    "\n"
   ]
  },
  {
   "cell_type": "markdown",
   "metadata": {},
   "source": [
    "Step 2. Row Reduce the Augmented Matrix \n",
    "\n",
    "$\\begin{bmatrix}1&0&3&0&0\\\\0&1&2&0&0\\\\0&0&0&1&0\\\\0&0&0&0&0\\end{bmatrix}$"
   ]
  },
  {
   "cell_type": "markdown",
   "metadata": {},
   "source": [
    "Step3. \n",
    "\n",
    "From this we have \n",
    "\n",
    "$x_1 +3x_3 = 0$\n",
    "\n",
    "$x_2 +2x_3 = 0$\n",
    "\n",
    "$x_3$ is free\n",
    "\n",
    "$x_4 = 0$\n",
    "\n",
    "Thus we have 3 equations and 4 variables with $x_3$ as a free variable\n",
    "\n",
    "$x_1 = -3x_3$\n",
    "\n",
    "$x_2 = -2x_3$\n",
    "\n",
    "$x_3 = x_3$\n",
    "\n",
    "$x_4 = 0$\n",
    "\n",
    "`Answer`\n",
    "$x = \\begin{bmatrix}x_1\\\\x_2\\\\x_3\\\\x_4\\end{bmatrix} = \\begin{bmatrix}-3x_3\\\\-2x_3\\\\x_3\\\\0\\end{bmatrix} = x_3\\begin{bmatrix}-3\\\\-2\\\\1\\\\0\\end{bmatrix}$"
   ]
  },
  {
   "cell_type": "markdown",
   "metadata": {},
   "source": [
    "# 1.8.16\n",
    "\n",
    "Given: Use a rectangular coordinate system to plot $ u = \\begin{bmatrix}5\\\\2\\end{bmatrix}, v = \\begin{bmatrix}-2\\\\4\\end{bmatrix}$, and their images under the given transformation T.  Describe geometrically what T does to each vector x in $\\mathbb{R^2}$\n",
    "\n",
    "$T(x) = \\begin{bmatrix}0&1\\\\1&0\\end{bmatrix}\\begin{bmatrix}x_1\\\\ x_2\\end{bmatrix}$\n",
    "\n",
    "Solution:\n"
   ]
  },
  {
   "cell_type": "markdown",
   "metadata": {},
   "source": [
    "For Vector $u$\n",
    "\n",
    "$T(x) = \\begin{bmatrix}0&1\\\\1&0\\end{bmatrix}\\begin{bmatrix}5\\\\ 2\\end{bmatrix} = \\begin{bmatrix}2\\\\5\\end{bmatrix}$\n",
    "\n",
    "For Vector $v$\n",
    "\n",
    "$T(x) = \\begin{bmatrix}0&1\\\\1&0\\end{bmatrix}\\begin{bmatrix}5\\\\ 2\\end{bmatrix} = \\begin{bmatrix}4\\\\-2\\end{bmatrix}$"
   ]
  },
  {
   "cell_type": "markdown",
   "metadata": {},
   "source": [
    "<img src=\"./1.8.16.jpg\">"
   ]
  },
  {
   "cell_type": "markdown",
   "metadata": {},
   "source": [
    "# 1.8.17\n",
    "\n",
    "Given: Let T: $\\mathbb{R^2}\\rightarrow\\mathbb{R^2}$ be a linear transformation that maps $u = \\begin{bmatrix}5\\\\2\\end{bmatrix}$ into $\\begin{bmatrix}2\\\\1\\end{bmatrix}$ and maps $v = \\begin{bmatrix}1\\\\3\\end{bmatrix}$ into $\\begin{bmatrix} -1\\\\3\\end{bmatrix}$\n",
    "\n",
    "Use the fact that $T$ is linear to find the images under T of $3u$, $2v$, and $3u+2v$"
   ]
  },
  {
   "cell_type": "markdown",
   "metadata": {},
   "source": [
    "Solution: \n",
    "\n",
    "$T(3u) = 3(Tu) = 3\\begin{bmatrix}2\\\\1\\end{bmatrix} = \\begin{bmatrix}6\\\\3\\end{bmatrix}$\n",
    "\n",
    "$T(2v) = 2(Tv) = 2\\begin{bmatrix}-1\\\\3\\end{bmatrix} = \\begin{bmatrix}-2\\\\6\\end{bmatrix}$\n",
    "\n",
    "$T(3u + 2v) = 3(Tu) + 2T(v) = \\begin{bmatrix}6\\\\3\\end{bmatrix}+\\begin{bmatrix}-2\\\\6\\end{bmatrix} = \\begin{bmatrix}-4\\\\9\\end{bmatrix}$"
   ]
  },
  {
   "cell_type": "markdown",
   "metadata": {},
   "source": [
    "# 1.8.33\n",
    "\n",
    "Given: show that the transformation $T$ defined by $T(x_1, x_2) = (2x_1-3x_2, x_1+4, 5x_2)$ is not linear"
   ]
  },
  {
   "cell_type": "markdown",
   "metadata": {},
   "source": [
    "Solution: \n",
    "\n",
    "If $T$ is a linear transformation, then $T(0) = 0$ for all vectors $u$, $v$ in the domain of T. "
   ]
  },
  {
   "cell_type": "markdown",
   "metadata": {},
   "source": [
    "If we set $x_1 = x_2 = 0$"
   ]
  },
  {
   "cell_type": "markdown",
   "metadata": {},
   "source": [
    "Then $T(0,0) = (2(0)-3(0), (0)+4, 5(0))$\n",
    "\n",
    "$=(0,4,0)$\n",
    "\n",
    "And Therefore, $T(0,0) \\neq 0$ and is not a linear Transformation"
   ]
  },
  {
   "cell_type": "code",
   "execution_count": null,
   "metadata": {},
   "outputs": [],
   "source": []
  }
 ],
 "metadata": {
  "kernelspec": {
   "display_name": "R",
   "language": "R",
   "name": "ir"
  },
  "language_info": {
   "codemirror_mode": "r",
   "file_extension": ".r",
   "mimetype": "text/x-r-source",
   "name": "R",
   "pygments_lexer": "r",
   "version": "3.6.1"
  }
 },
 "nbformat": 4,
 "nbformat_minor": 2
}
