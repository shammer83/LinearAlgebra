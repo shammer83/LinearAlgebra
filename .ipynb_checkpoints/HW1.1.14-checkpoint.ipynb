{
 "cells": [
  {
   "cell_type": "markdown",
   "metadata": {},
   "source": []
  },
  {
   "cell_type": "markdown",
   "metadata": {},
   "source": [
    "## 1.1.14"
   ]
  },
  {
   "cell_type": "markdown",
   "metadata": {},
   "source": [
    "#### Step 1: Convert system of equations into Coefficient Matrix\n",
    "$\\begin{matrix}\n",
    " x_1-3x_2= 5\\\\ \n",
    " -x_1+x_2+5x_3 = 2 \\\\ \n",
    " x_2+x_3 = 5\n",
    "\\end{matrix} = \\begin{bmatrix}  1&-3&0&5 \\\\ -1&1&5&2\\\\0&1&1&0\\end{bmatrix} %0$"
   ]
  },
  {
   "cell_type": "markdown",
   "metadata": {},
   "source": [
    "#### Step 2:  Add row 1 to row 2 and replace"
   ]
  },
  {
   "cell_type": "markdown",
   "metadata": {},
   "source": [
    "$\\begin{bmatrix}  1&-3&0&5 \\\\ 0&-2&5&7\\\\0&1&1&0\\end{bmatrix}$"
   ]
  },
  {
   "cell_type": "markdown",
   "metadata": {},
   "source": [
    "#### Step 3: Swap row 3 with row 2\n",
    "\n",
    "$\\begin{bmatrix}  1&-3&0&5 \\\\0&1&1&0\\\\ 0&-2&5&7\\end{bmatrix}$"
   ]
  },
  {
   "cell_type": "markdown",
   "metadata": {},
   "source": [
    "#### Add 2x( row 2) to row 3\n",
    "\n",
    "$\\begin{bmatrix}  1&-3&0&5 \\\\0&1&1&0\\\\ 0&0&7&7\\end{bmatrix}$\n"
   ]
  },
  {
   "cell_type": "markdown",
   "metadata": {},
   "source": [
    "#### Divide row 3 by 7\n",
    "\n",
    "$\\begin{bmatrix}  1&-3&0&5 \\\\0&1&1&0\\\\ 0&0&1&1\\end{bmatrix}$"
   ]
  },
  {
   "cell_type": "markdown",
   "metadata": {},
   "source": [
    "#### Subtract row 3 from row 2\n",
    "\n",
    "$\\begin{bmatrix}  1&-3&0&5 \\\\0&1&0&-1\\\\ 0&0&1&1\\end{bmatrix}$"
   ]
  },
  {
   "cell_type": "markdown",
   "metadata": {},
   "source": [
    "#### Add 3x(row 2) to row 1\n",
    "\n",
    "$\\begin{bmatrix}  1&0&0&2 \\\\0&1&0&-1\\\\ 0&0&1&1\\end{bmatrix}$"
   ]
  },
  {
   "cell_type": "markdown",
   "metadata": {},
   "source": [
    "### Solution is (2, -1, 1)"
   ]
  },
  {
   "cell_type": "code",
   "execution_count": null,
   "metadata": {},
   "outputs": [],
   "source": []
  }
 ],
 "metadata": {
  "kernelspec": {
   "display_name": "Python 3",
   "language": "python",
   "name": "python3"
  },
  "language_info": {
   "codemirror_mode": {
    "name": "ipython",
    "version": 3
   },
   "file_extension": ".py",
   "mimetype": "text/x-python",
   "name": "python",
   "nbconvert_exporter": "python",
   "pygments_lexer": "ipython3",
   "version": "3.7.3"
  }
 },
 "nbformat": 4,
 "nbformat_minor": 2
}
