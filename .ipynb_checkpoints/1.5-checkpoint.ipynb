{
 "cells": [
  {
   "cell_type": "markdown",
   "metadata": {},
   "source": [
    "# 1.5.4\n",
    "\n",
    "given:\n",
    "\n",
    "$\\begin{matrix}-5x_1+7x_2+9x_3 = 0 \\\\ x_1-2x_2+6x_3 = 0 \\end{matrix}$\n",
    "\n",
    "Determine if the system has a nontrivial solution:\n",
    "\n",
    "#### Solution:\n",
    "\n",
    "[A 0] = $\\begin{bmatrix}-5&7&9&0 \\\\ 1&-2&6&0 \\end{bmatrix}$\n",
    "\n",
    "Step 1. $R_2 \\rightarrow R_1$\n",
    "\n",
    "Step 2. $R_2 \\rightarrow 5R_1 +R_2$\n",
    "\n",
    "Step 3. $R_2 \\rightarrow \\frac{-1}{3}R_2$\n",
    "\n",
    "Step 4. $R_1 \\rightarrow 2R_2 + R_1$\n",
    "\n",
    "$\\begin{bmatrix} 1&0&-20&0 \\\\ 0&1&-13&0\\end{bmatrix} $\n",
    "\n",
    "$X_3$ is a free variable, therefore, Ax = 0 has a nontrivial solution."
   ]
  },
  {
   "cell_type": "markdown",
   "metadata": {},
   "source": [
    "# 1.5.6\n",
    "\n",
    "#### Given: \n",
    "\n",
    "$\\begin{matrix} x_1+3x_2-5x_3 = 0 \\\\ x_1+4x_2-8x_3 = 0 \\\\ -3x_1 - 7x_2+9x_3 = 0 \\end{matrix}$\n",
    "\n",
    "Write the solution set of the given homogeneous system in parametric vector form \n"
   ]
  },
  {
   "cell_type": "markdown",
   "metadata": {},
   "source": [
    "#### Solution:\n",
    "\n",
    "Step 1. Let A be the matrix of coefficients of hte system and row reduce the augmented matrix [A 0] into echelon form\n",
    "\n",
    " = $\\begin{bmatrix}1&0&4&0\\\\0&1&-3&0\\\\0&0&0&0\\end{bmatrix}$\n",
    "\n",
    "Step 2. Solve for the basic variables $x_1, x_2,  x_3$, with $x_3$ being a free\n",
    "\n",
    "$\\begin{matrix} x_1 +4x_3 = 0 \\\\ x_2-3x_3 = 0 \\\\ 0 = 0\\end{matrix}$\n",
    "\n"
   ]
  },
  {
   "cell_type": "markdown",
   "metadata": {},
   "source": [
    "Step 3. Solve for the basic variables $x_1, x_2$ \n",
    "\n",
    "$x_1 = -4x_3$\n",
    "\n",
    "$x_2 = 3x_3$\n",
    "\n",
    "so $x_3\\begin{bmatrix} -4\\\\3\\\\1\\end{bmatrix}$"
   ]
  },
  {
   "cell_type": "markdown",
   "metadata": {},
   "source": [
    "# 1.5.12\n"
   ]
  },
  {
   "cell_type": "markdown",
   "metadata": {},
   "source": [
    "#### given: \n",
    "\n",
    "$\\begin{bmatrix}1&5&2&-6&9&0\\\\0&0&1&-7&4&-8\\\\0&0&0&0&0&1\\\\0&0&0&0&0&0\\end{bmatrix}$\n",
    "\n",
    "Describe all solutions of $Ax = 0$ in parametric vector form, where A is row equivalent to the given matrix. \n",
    "\n"
   ]
  },
  {
   "cell_type": "markdown",
   "metadata": {},
   "source": [
    "#### Solution:\n",
    "\n",
    "$\\begin{bmatrix}1&5&2&-6&9&0&0\\\\0&0&1&-7&4&-8&0\\\\0&0&0&0&0&1&0\\\\0&0&0&0&0&0&0\\end{bmatrix}$\n"
   ]
  },
  {
   "cell_type": "markdown",
   "metadata": {},
   "source": [
    "Step 1.  $R_3 \\rightarrow 8R_3 + R_2$\n",
    "\n",
    "Step 2.  $R_1 \\rightarrow -2R_2+R_1$\n",
    "\n",
    "$\\begin{bmatrix}1&5&0&8&1&0&0\\\\0&0&1&-7&4&0&0\\\\0&0&0&0&0&1&0\\\\0&0&0&0&0&0&0\\end{bmatrix}$\n"
   ]
  },
  {
   "cell_type": "markdown",
   "metadata": {},
   "source": [
    "#### $X_2,X_4,X_5$ are free variables\n",
    "\n",
    "$\\begin{bmatrix}x_1\\\\ x_2\\\\x_3\\\\ x_4\\\\x_5\\end{bmatrix} = \\begin{bmatrix} -5x_2-8x_4-x_5\\\\ x_2\\\\ 7x_4-4x_5\\\\x_4\\\\x_5\\\\0 \\end{bmatrix} = \\begin{bmatrix} -5x_2\\\\x_2\\\\0\\\\0\\\\0\\\\0\\end{bmatrix}+\\begin{bmatrix}-8x_4\\\\0\\\\7x_4\\\\x_4\\\\0\\\\0\\end{bmatrix}+\\begin{bmatrix}-x_5\\\\0\\\\-4x_5\\\\0\\\\x_5\\\\0\\end{bmatrix} =  $ "
   ]
  },
  {
   "cell_type": "markdown",
   "metadata": {},
   "source": [
    "$x_2\\begin{bmatrix} -5\\\\1\\\\0\\\\0\\\\0\\\\0\\end{bmatrix}+x_4\\begin{bmatrix}-8\\\\0\\\\7\\\\1\\\\0\\\\0\\end{bmatrix}+x_5\\begin{bmatrix}-1\\\\0\\\\-4\\\\0\\\\1\\\\0\\end{bmatrix}$"
   ]
  },
  {
   "cell_type": "markdown",
   "metadata": {},
   "source": [
    "$x = x_2u+x_4v+x_5w$"
   ]
  },
  {
   "cell_type": "code",
   "execution_count": null,
   "metadata": {},
   "outputs": [],
   "source": []
  },
  {
   "cell_type": "markdown",
   "metadata": {},
   "source": [
    "# 1.5.16\n",
    "\n",
    "given: \n",
    "\n",
    "$\\begin{matrix} x_1+3x_2-5x_3 =4 \\\\ x_1+4x_2-8x_3=7 \\\\ -3x_1-7x_2+9x_3 = -6\\end{matrix}$"
   ]
  },
  {
   "cell_type": "markdown",
   "metadata": {},
   "source": [
    "#### Solution: \n",
    "$\\begin{bmatrix}1&3&-5&4\\\\1&4&-8&7\\\\-3&-7&9&-6\\end{bmatrix}$\n",
    "\n",
    "Step 1.  Apply row operations to get in reduced echelon form:\n",
    "\n",
    "$\\begin{bmatrix}1&0&4&-5\\\\0&1&-3&3\\\\0&0&0&0\\end{bmatrix}$\n",
    "\n"
   ]
  },
  {
   "cell_type": "markdown",
   "metadata": {},
   "source": [
    "Step 2.System of Equations \n",
    "\n",
    "$x_1 = -4x_3-5$\n",
    "\n",
    "$x_2 = 3+3x_3$ \n",
    "\n",
    "x_3 is free variable"
   ]
  },
  {
   "cell_type": "markdown",
   "metadata": {},
   "source": [
    "Step 3. Translate into parametric form\n",
    "\n",
    "$x = \\begin{bmatrix} x_1\\\\x_2\\\\x_3\\end{bmatrix} = \\begin{bmatrix}-4x_3-5\\\\3x_3+3\\end{bmatrix}= x_3\\begin{bmatrix}-4\\\\3\\\\1\\end{bmatrix}+\\begin{bmatrix}-5\\\\3\\\\0\\end{bmatrix}$"
   ]
  },
  {
   "cell_type": "markdown",
   "metadata": {},
   "source": [
    "$= u + x_3v$"
   ]
  },
  {
   "cell_type": "markdown",
   "metadata": {},
   "source": [
    "From the solution in Exersize 1.5.6: $x = x_3\\begin{bmatrix}-4\\\\3\\\\1\\end{bmatrix} = x_3w$\n",
    "\n",
    "We can see that the line $ x = u + x_3v$ is parallel to $x = x_3w$"
   ]
  },
  {
   "cell_type": "code",
   "execution_count": null,
   "metadata": {},
   "outputs": [],
   "source": []
  }
 ],
 "metadata": {
  "kernelspec": {
   "display_name": "Python 3",
   "language": "python",
   "name": "python3"
  },
  "language_info": {
   "codemirror_mode": {
    "name": "ipython",
    "version": 3
   },
   "file_extension": ".py",
   "mimetype": "text/x-python",
   "name": "python",
   "nbconvert_exporter": "python",
   "pygments_lexer": "ipython3",
   "version": "3.7.3"
  }
 },
 "nbformat": 4,
 "nbformat_minor": 2
}
