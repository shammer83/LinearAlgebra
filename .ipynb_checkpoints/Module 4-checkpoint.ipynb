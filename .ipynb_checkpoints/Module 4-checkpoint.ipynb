{
 "cells": [
  {
   "cell_type": "markdown",
   "metadata": {},
   "source": [
    "# 3.1.14\n",
    "\n",
    "given: Compute the determinants by cofactor expansions. At each step, choose are row or column that involves the least amount of computation \n",
    "\n",
    "$\\begin{bmatrix}6&3&2&4&0\\\\0&0&-4&1&0\\\\8&-5&6&7&1\\\\2&0&0&0&0\\\\4&2&3&2&0\\end{bmatrix}$\n",
    "\n"
   ]
  },
  {
   "cell_type": "markdown",
   "metadata": {},
   "source": [
    "Solution: \n",
    "\n",
    "Step 1:  choose row 4, column 1\n",
    "\n",
    "$\\begin{bmatrix}6&3&2&4&0\\\\0&0&-4&1&0\\\\8&-5&6&7&1\\\\2&0&0&0&0\\\\4&2&3&2&0\\end{bmatrix} = (-1)^{4+1}(2) \\begin{bmatrix}3&2&4&0\\\\0&-4&1&0\\\\-5&6&7&1\\\\2&3&2&0\\end{bmatrix}$\n"
   ]
  },
  {
   "cell_type": "markdown",
   "metadata": {},
   "source": [
    "Step 2: choose column 4, row 3\n",
    "\n",
    "$(-1)^{4+1}(2) \\begin{bmatrix}3&2&4&0\\\\0&-4&1&0\\\\-5&6&7&1\\\\2&3&2&0\\end{bmatrix} = -2(-1)^{3+4}(1) \\begin{bmatrix}3&2&4\\\\0&-4&1\\\\2&3&2\\end{bmatrix}$\n",
    "\n",
    "$= 2 \\begin{bmatrix}3&2&4\\\\0&-4&1\\\\2&3&2\\end{bmatrix}$"
   ]
  },
  {
   "cell_type": "markdown",
   "metadata": {},
   "source": [
    "Step 3:  chose column 1, row 1 \n",
    "\n",
    "= $2 \\{(-1)^{1+1}(3)\\begin{bmatrix}-4&1\\\\3&2\\end{bmatrix}+(-1)^{3+1}(2)\\begin{bmatrix}2&4\\\\-4&1\\end{bmatrix}\\}$\n",
    "\n",
    "= $2 \\{(3)\\begin{bmatrix}-4&1\\\\3&2\\end{bmatrix}+(2)\\begin{bmatrix}2&4\\\\-4&1\\end{bmatrix}\\}$\n",
    "\n",
    "= $2 \\{(3)(-8-3)+(2)(2+16)\\}$\n",
    "\n",
    "= `6`"
   ]
  },
  {
   "cell_type": "markdown",
   "metadata": {},
   "source": [
    "# 3.1.18"
   ]
  },
  {
   "cell_type": "markdown",
   "metadata": {},
   "source": [
    "Given: Add the downward diagonal producs and subtract the upward products to determine the determinants.  Warning: this trick does not generalize to 4x4 and larger matrices\n",
    "\n",
    "$\\begin{bmatrix}1&3&4\\\\2&3&1\\\\3&3&2\\end{bmatrix}$"
   ]
  },
  {
   "cell_type": "markdown",
   "metadata": {},
   "source": [
    "Solution:\n",
    "\n",
    "$\\begin{bmatrix}1&3&4\\\\2&3&1\\\\3&3&2\\end{bmatrix}\\begin{matrix}1&3\\\\2&3\\\\3&3\\end{matrix}$\n",
    "\n",
    "$(1x3x2)+ (3x1x3)+ (4x2x3) - (3x3x4)-(3x1x1)-(2x2x3)$\n",
    "\n",
    "= `-12`"
   ]
  },
  {
   "cell_type": "markdown",
   "metadata": {},
   "source": [
    "# 3.2.10\n",
    "\n",
    "given: Find the determinant by row reduction to echelon form\n",
    "\n",
    "$A = \\begin{bmatrix}1&3&-1&0&-2\\\\0&2&-4&-2&-6\\\\-2&-6&2&3&10\\\\1&5&-6&2&-3\\\\0&2&-4&5&9\\end{bmatrix}$"
   ]
  },
  {
   "cell_type": "markdown",
   "metadata": {},
   "source": [
    "Solution: \n",
    "\n",
    "step 1 $R3 \\rightarrow 2R1 + R3$\n",
    "\n",
    "step 2. $R4 \\rightarrow -R1 + R4$\n",
    "\n",
    "step 3. $R3 \\leftrightarrow R4$\n",
    "\n",
    "step 4. $R5 \\rightarrow -2R+R5$\n",
    "\n",
    "step 5. $R3 \\leftrightarrow R4$\n",
    "\n",
    "step 6. $R4 \\leftrightarrow R5$\n",
    "\n",
    "step 7. $R5 \\rightarrow -\\frac{3}{7}R4+R5 $ "
   ]
  },
  {
   "cell_type": "markdown",
   "metadata": {},
   "source": [
    "$ = \\begin{bmatrix}1&3&-1&0&-2\\\\0&2&-4&-2&-6\\\\0&0&-1&4&5\\\\0&0&0&7&15\\\\0&0&0&0&-\\frac{3}{7}\\end{bmatrix}$"
   ]
  },
  {
   "cell_type": "markdown",
   "metadata": {},
   "source": [
    "Multiply down the diagnal \n",
    "\n",
    "= `6`"
   ]
  },
  {
   "cell_type": "markdown",
   "metadata": {},
   "source": [
    "# 3.2.14"
   ]
  },
  {
   "cell_type": "markdown",
   "metadata": {},
   "source": [
    "Given: Combine the methods of row reduction with cofactor expansion to compute the determinant\n",
    "\n",
    "$ A = \\begin{bmatrix}1&5&4&1\\\\0&-2&-4&0\\\\3&5&4&1\\\\-6&5&5&0\\end{bmatrix}$"
   ]
  },
  {
   "cell_type": "markdown",
   "metadata": {},
   "source": [
    "Solution: \n",
    "\n",
    "step 1. $R3 \\rightarrow -R1+R3$\n",
    "\n",
    "\n",
    "\n",
    "$ A = \\begin{bmatrix}1&5&4&1\\\\0&-2&-4&0\\\\2&0&0&0\\\\-6&5&5&0\\end{bmatrix}$\n",
    "\n"
   ]
  },
  {
   "cell_type": "markdown",
   "metadata": {},
   "source": [
    "step 2. Apply cofactor expansion along the 4th column \n",
    "\n",
    "$detA$ = $1(-1)^{4+1}\\begin{bmatrix}0&-2&-4\\\\2&0&0\\\\-6&5&5\\end{bmatrix}$"
   ]
  },
  {
   "cell_type": "markdown",
   "metadata": {},
   "source": [
    "step 3. Apply cofactor expansion along second row\n",
    "\n",
    "$detA = -1(2)(-1)^{2+1}\\begin{bmatrix}-2&-4\\\\5&5\\end{bmatrix}$\n",
    "\n",
    "$detA$ = $2\\{ (-10+20)\\}$\n",
    "\n",
    "$detA$ = `20`"
   ]
  },
  {
   "cell_type": "markdown",
   "metadata": {},
   "source": [
    "# 3.2.22"
   ]
  },
  {
   "cell_type": "markdown",
   "metadata": {},
   "source": [
    "given: use determinants to find out if the matrix is invertible\n",
    "\n",
    "$\\begin{bmatrix}5&1&-1\\\\1&-3&-2\\\\0&5&3\\end{bmatrix}$"
   ]
  },
  {
   "cell_type": "markdown",
   "metadata": {},
   "source": [
    "solution: apply coffactor expansion on the first first column\n",
    "\n",
    "$5(-1)^{1+1}\\cdot\\begin{bmatrix}-3&-2\\\\5&3\\end{bmatrix}+1(-1)^{2+1}\\cdot\\begin{bmatrix}1&-1\\\\5&3\\end{bmatrix}$\n",
    "\n",
    "$ = 5(1)-8$\n",
    "\n",
    "$det A = -3$"
   ]
  },
  {
   "cell_type": "markdown",
   "metadata": {},
   "source": [
    "# 3.2.24"
   ]
  },
  {
   "cell_type": "markdown",
   "metadata": {},
   "source": [
    "given: use determinants to decide if the set of vectors is linearly independent\n",
    "\n",
    "$\\begin{bmatrix}4\\\\6\\\\2\\end{bmatrix},\\begin{bmatrix}-7\\\\0\\\\7\\end{bmatrix},\\begin{bmatrix}-3\\\\-5\\\\-2\\end{bmatrix}$"
   ]
  },
  {
   "cell_type": "markdown",
   "metadata": {},
   "source": [
    "solution: \n",
    "\n",
    "$\\begin{bmatrix}4&-7&-3\\\\6&0&-5\\\\2&7&-2\\end{bmatrix} = 2\\begin{bmatrix}1&\\frac{7}{2}&-1\\\\6&0&-5\\\\4&-7&-3\\end{bmatrix} = 2\\begin{bmatrix}1&\\frac{7}{2}&-1\\\\4&-7&-3\\\\6&0&-5\\end{bmatrix} = 2\\begin{bmatrix}1&\\frac{7}{2}&-1\\\\0&-21&1\\\\6&0&-5\\end{bmatrix}$"
   ]
  },
  {
   "cell_type": "markdown",
   "metadata": {},
   "source": [
    "apply cofactor expansion on the first column\n",
    "\n",
    "$2\\{(1)(-1)^{1+1}\\cdot\\begin{bmatrix}-21&1\\\\0&-5\\end{bmatrix}+0+(6)(-1)^{3+1}\\begin{bmatrix}\\frac{7}{2}&-1\\\\0&-5\\end{bmatrix}\\}$"
   ]
  },
  {
   "cell_type": "markdown",
   "metadata": {},
   "source": [
    "= $2\\{105 -105\\}$ = 0 "
   ]
  },
  {
   "cell_type": "markdown",
   "metadata": {},
   "source": [
    "$det A \\neq 0$ \n",
    "\n",
    "therefore the columns of the matrix for a linearly dependent set"
   ]
  },
  {
   "cell_type": "markdown",
   "metadata": {},
   "source": [
    "# 3.2.29"
   ]
  },
  {
   "cell_type": "markdown",
   "metadata": {},
   "source": [
    "Compute $detB^4$ where :\n",
    "\n",
    "$B = \\begin{bmatrix}1&0&1\\\\1&1&2\\\\1&2&1\\end{bmatrix}$"
   ]
  },
  {
   "cell_type": "markdown",
   "metadata": {},
   "source": [
    "Solution:\n",
    "\n",
    "step 1. reduce matrix B to reduced row echelon form\n",
    "\n",
    "$\\begin{bmatrix}1&0&1\\\\1&1&2\\\\1&2&1\\end{bmatrix}$\n",
    "\n",
    "a. $R2 \\rightarrow -R1+R2$\n",
    "\n",
    "b. $R3 \\rightarrow -R1+R3$\n",
    "\n",
    "c. $R3 \\rightarrow -R2+R3$\n",
    "\n",
    "thus the reduced row echelon form of $B$ is \n",
    "\n",
    "$\\begin{bmatrix}1&0&1\\\\0&1&1\\\\0&0&-2\\end{bmatrix}$\n",
    "\n",
    "letting $A = \\begin{bmatrix}1&0&1\\\\0&1&1\\\\0&0&-2\\end{bmatrix}$\n",
    "\n",
    "means $B$ is row equivalent to matrix $A$\n"
   ]
  },
  {
   "cell_type": "markdown",
   "metadata": {},
   "source": [
    "using cofactor expansion down the first column\n",
    "\n",
    "$det A = a_{11}C_{11}+a_{21}C_{21}+a_{31}C_{31}$ \n",
    "\n",
    "$ = (-1)^{1+1}\\begin{bmatrix}1&1\\\\0&-2\\end{bmatrix} + 0 +0$\n",
    "\n",
    "$ = -2$\n",
    "\n",
    "$det A = det B $\n",
    "\n",
    "therefor $detA^4 = detB^4$\n",
    "\n",
    "$detB^4= 16$"
   ]
  },
  {
   "cell_type": "markdown",
   "metadata": {},
   "source": [
    "# 3.2.32"
   ]
  },
  {
   "cell_type": "markdown",
   "metadata": {},
   "source": [
    "Suppose that A is a square matrix such that $detA^3 = 0$.\n",
    "\n",
    "Explain why A cannot be invertible"
   ]
  },
  {
   "cell_type": "markdown",
   "metadata": {},
   "source": [
    "Solution:\n",
    "\n",
    "By Theorem 4 a square matrix is invertible if anly only if $detA \\neq 0$\n",
    "\n",
    "so if $detA^3 = 0$\n",
    "\n",
    "then $(detA)^3 = 0$\n",
    "\n",
    "and $det A = 0$\n",
    "\n",
    "since $det A = 0$ the matrix A is not invertible"
   ]
  },
  {
   "cell_type": "markdown",
   "metadata": {},
   "source": [
    "# 3.2.34\n",
    "\n",
    "Let A and P be square matrices, with P invertible.  Show that $det(PAP^{-1}) = detA$"
   ]
  },
  {
   "cell_type": "markdown",
   "metadata": {},
   "source": [
    "Solution: \n",
    "\n",
    "By the associaive property $PAP^{-1} = P(AP^-1)$\n",
    "\n",
    "finding the $det(PAP^-1) = (detP)(detA)(detP^-1)$\n",
    "\n",
    "$ = (detP)(detP^{-1})det(A)$\n",
    "\n",
    "$ = det(A)$\n",
    "\n",
    "Therefore $det(PAP^{-1}) = detA$\n",
    "   "
   ]
  },
  {
   "cell_type": "markdown",
   "metadata": {},
   "source": [
    "# 3.2.43"
   ]
  },
  {
   "cell_type": "markdown",
   "metadata": {},
   "source": [
    "Verify that $detA = detB + detC$\n",
    "\n",
    "given : A = $\\begin{bmatrix} a_{11}&a_{12}&u_1+v_1\\\\a_{21}&a_{22}&u_2+v_2\\\\a_{31}&a_{32}&u_3+v_3\\end{bmatrix}$\n",
    "\n",
    "$B = \\begin{bmatrix} a_{11}&a_{12}&u_1\\\\a_{21}&a_{22}&u_2\\\\a_{31}&a_{32}&u_3\\end{bmatrix}$\n",
    "\n",
    "$C =\\begin{bmatrix} a_{11}&a_{12}&v_1\\\\a_{21}&a_{22}&v_2\\\\a_{31}&a_{32}&v_3\\end{bmatrix}$"
   ]
  },
  {
   "cell_type": "markdown",
   "metadata": {},
   "source": [
    "Solution\n",
    "\n",
    "first solve the $det A$\n",
    "\n",
    "coefficient expansion down the third column\n",
    "\n",
    "$= (u_1+v_1)\\begin{bmatrix}a_{21}&a_{22}\\\\a_{31}&a_{32}\\end{bmatrix} - (u_2+v_2)\\begin{bmatrix}a_{11}&a_{12}\\\\a_{31}&a_{32}\\end{bmatrix} + (u_3+v_3)\\begin{bmatrix}a_{11}&a_{12}\\\\a_{21}&a_{22}\\end{bmatrix}$\n",
    "\n",
    "=$(u_1+v_1)(a_{21}a_{32}-a_{31}a_{22}) - (u_2+v_2)(a_{11}a_{32}-a_{12}a_{31}) + (u_3+v_3)(a_{11}a_{22}-a_{12}a_{21})$\n",
    "\n",
    "$detA = u_1(a_{21}a_{32}-a_{31}a_{22}) - u_2(a_{11}a_{32}-a_{12}a_{31}) + u_3(a_{11}a_{22}-a_{12}a_{21}+v_1(a_{21}a_{32}-a_{31}a_{22}) - v_2(a_{11}a_{32}-a_{12}a_{31}) + v_3(a_{11}a_{22}-a_{12}a_{21})$\n",
    "\n",
    "$detB = u_1(a_{21}a_{32}-a_{31}a_{22}) - u_2(a_{11}a_{32}-a_{12}a_{31}) + u_3(a_{11}a_{22}-a_{12}a_{21})$\n",
    "\n",
    "$detC = v_1(a_{21}a_{32}-a_{31}a_{22}) - v_2(a_{11}a_{32}-a_{12}a_{31})+ v_3(a_{11}a_{22}-a_{12}a_{21}) $"
   ]
  },
  {
   "cell_type": "markdown",
   "metadata": {},
   "source": [
    "$detB+detC = u_1(a_{21}a_{32}-a_{31}a_{22}) - u_2(a_{11}a_{32}-a_{12}a_{31}) + u_3(a_{11}a_{22}-a_{12}a_{21}) + v_1(a_{21}a_{32}-a_{31}a_{22}) - v_2(a_{11}a_{32}-a_{12}a_{31})+ v_3(a_{11}a_{22}-a_{12}a_{21})$\n",
    "\n",
    "Therefore $detA = detB+detC$"
   ]
  },
  {
   "cell_type": "code",
   "execution_count": null,
   "metadata": {},
   "outputs": [],
   "source": []
  }
 ],
 "metadata": {
  "kernelspec": {
   "display_name": "R",
   "language": "R",
   "name": "ir"
  },
  "language_info": {
   "codemirror_mode": "r",
   "file_extension": ".r",
   "mimetype": "text/x-r-source",
   "name": "R",
   "pygments_lexer": "r",
   "version": "3.6.1"
  }
 },
 "nbformat": 4,
 "nbformat_minor": 2
}
