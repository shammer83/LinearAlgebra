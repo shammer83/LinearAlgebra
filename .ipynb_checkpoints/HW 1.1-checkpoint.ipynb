{
 "cells": [
  {
   "cell_type": "markdown",
   "metadata": {},
   "source": [
    "1.1.12 Solve System of equations\n",
    "\n",
    "#### Step 1: Convert system of equations into Augment Matrix\n",
    "$\\begin{matrix}\n",
    " x_1-3x_2+4x_3 = -4\\\\ \n",
    " 3x_1-7x_2+7x_3 = -8 \\\\ \n",
    " -4x_1+6x_2-x_3 = 7\n",
    "\\end{matrix} = \\begin{bmatrix}  1&-3&4&-4 \\\\ 3&-7&7&-8\\\\-4&6&-1&7\\end{bmatrix} %0$"
   ]
  },
  {
   "cell_type": "markdown",
   "metadata": {},
   "source": [
    "#### Step 2:  Replace row 2 by sum of itself and adding it to the multiple of row 1 (multiply by -2). \n",
    "\n",
    "$\\begin{bmatrix}  1&-3&4&-4 \\\\ 0&-2&-5&-4\\\\-4&6&-1&-8\\end{bmatrix} $"
   ]
  },
  {
   "cell_type": "markdown",
   "metadata": {},
   "source": [
    "#### Step 3:  Replace row 3 by sum of itself and adding it to the multiple of row 1 (multiply by 4). \n",
    "\n",
    "$\\begin{bmatrix}  1&-3&4&-4 \\\\ 0&-2&-5&-4\\\\0&-6&15&-9\\end{bmatrix}$"
   ]
  },
  {
   "cell_type": "markdown",
   "metadata": {},
   "source": [
    "#### Step 4:  Swap row 2 with row 3\n",
    "\n",
    "$\\begin{bmatrix}  1&-3&4&-4 \\\\0&-6&15&-9\\\\ 0&-2&-5&-4\\end{bmatrix}$"
   ]
  },
  {
   "cell_type": "markdown",
   "metadata": {},
   "source": [
    "#### Step 5: Add 1/3 x row 2 to row 3 \n",
    "$\\begin{bmatrix}  1&-3&4&-4 \\\\0&-6&15&-9\\\\ 0&0&0&1\\end{bmatrix}$\n"
   ]
  },
  {
   "cell_type": "markdown",
   "metadata": {},
   "source": [
    "#### Step 6:  Add 9x(row 3) to row 2\n",
    "\n",
    "$\\begin{bmatrix}  1&-3&4&-4 \\\\0&-6&15&0\\\\ 0&0&0&1\\end{bmatrix}$"
   ]
  },
  {
   "cell_type": "markdown",
   "metadata": {},
   "source": [
    "#### Step 7: Add 4x(row 3) to row 1\n",
    "\n",
    "$\\begin{bmatrix}  1&-3&4&0 \\\\0&-6&15&0\\\\ 0&0&0&1\\end{bmatrix}$"
   ]
  },
  {
   "cell_type": "code",
   "execution_count": null,
   "metadata": {},
   "outputs": [],
   "source": [
    "Step 8: Divide row 2 by "
   ]
  }
 ],
 "metadata": {
  "kernelspec": {
   "display_name": "Python 3",
   "language": "python",
   "name": "python3"
  },
  "language_info": {
   "codemirror_mode": {
    "name": "ipython",
    "version": 3
   },
   "file_extension": ".py",
   "mimetype": "text/x-python",
   "name": "python",
   "nbconvert_exporter": "python",
   "pygments_lexer": "ipython3",
   "version": "3.7.3"
  }
 },
 "nbformat": 4,
 "nbformat_minor": 2
}
