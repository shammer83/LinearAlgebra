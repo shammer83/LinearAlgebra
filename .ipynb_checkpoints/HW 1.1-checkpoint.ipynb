{
 "cells": [
  {
   "cell_type": "markdown",
   "metadata": {},
   "source": [
    "                                                                                        Derek Haynes\n",
    "                                                                                        HW module 1\n",
    "                                                                                        Math 303 Linear Algebra"
   ]
  },
  {
   "cell_type": "markdown",
   "metadata": {},
   "source": [
    "# 1.1.12 Solve System of equations\n",
    "\n",
    "#### Step 1: Convert system of equations into Augment Matrix\n",
    "$\\begin{matrix}\n",
    " x_1-3x_2+4x_3 = -4\\\\ \n",
    " 3x_1-7x_2+7x_3 = -8 \\\\ \n",
    " -4x_1+6x_2-x_3 = 7\n",
    "\\end{matrix} = \\begin{bmatrix}  1&-3&4&-4 \\\\ 3&-7&7&-8\\\\-4&6&-1&7\\end{bmatrix} %0$"
   ]
  },
  {
   "cell_type": "markdown",
   "metadata": {},
   "source": [
    "#### Step 2:  Replace row 2 by sum of itself and adding it to the multiple of row 1 (multiply by -2). \n",
    "\n",
    "$\\begin{bmatrix}  1&-3&4&-4 \\\\ 0&-2&-5&-4\\\\-4&6&-1&-8\\end{bmatrix} $"
   ]
  },
  {
   "cell_type": "markdown",
   "metadata": {},
   "source": [
    "#### Step 3:  Replace row 3 by sum of itself and adding it to the multiple of row 1 (multiply by 4). \n",
    "\n",
    "$\\begin{bmatrix}  1&-3&4&-4 \\\\ 0&-2&-5&-4\\\\0&-6&15&-9\\end{bmatrix}$"
   ]
  },
  {
   "cell_type": "markdown",
   "metadata": {},
   "source": [
    "#### Step 4:  Swap row 2 with row 3\n",
    "\n",
    "$\\begin{bmatrix}  1&-3&4&-4 \\\\0&-6&15&-9\\\\ 0&-2&-5&-4\\end{bmatrix}$"
   ]
  },
  {
   "cell_type": "markdown",
   "metadata": {},
   "source": [
    "#### Step 5: Add 1/3 x row 2 to row 3 \n",
    "$\\begin{bmatrix}  1&-3&4&-4 \\\\0&-6&15&-9\\\\ 0&0&0&1\\end{bmatrix}$\n"
   ]
  },
  {
   "cell_type": "markdown",
   "metadata": {},
   "source": [
    "#### Step 6:  Add 9x(row 3) to row 2\n",
    "\n",
    "$\\begin{bmatrix}  1&-3&4&-4 \\\\0&-6&15&0\\\\ 0&0&0&1\\end{bmatrix}$"
   ]
  },
  {
   "cell_type": "markdown",
   "metadata": {},
   "source": [
    "#### Step 7: Add 4x(row 3) to row 1\n",
    "\n",
    "$\\begin{bmatrix}  1&-3&4&0 \\\\0&-6&15&0\\\\ 0&0&0&1\\end{bmatrix}$"
   ]
  },
  {
   "cell_type": "markdown",
   "metadata": {},
   "source": [
    "#### Step 8: Divide row 2 by - 6 \n",
    "    \n",
    "$\\begin{bmatrix}  1&-3&4&0 \\\\0&1&-5/2&0\\\\ 0&0&0&1\\end{bmatrix}$"
   ]
  },
  {
   "cell_type": "markdown",
   "metadata": {},
   "source": [
    "#### Step 9 : Add 3 x (row 2) to row 1\n",
    "\n",
    "$\\begin{bmatrix}  1&0&-7/2&0 \\\\0&1&-5/2&0\\\\ 0&0&0&1\\end{bmatrix}$"
   ]
  },
  {
   "cell_type": "markdown",
   "metadata": {},
   "source": [
    "#### Solution:  Augmented Matrix is in reduced echelon form\n",
    "\n",
    "$\\begin{bmatrix}  1&0&-7/2&0 \\\\0&1&-5/2&0\\\\ 0&0&0&1\\end{bmatrix}$"
   ]
  },
  {
   "cell_type": "markdown",
   "metadata": {},
   "source": [
    "# 1.1.14 Solve the system of equations:"
   ]
  },
  {
   "cell_type": "markdown",
   "metadata": {},
   "source": [
    "#### Step 1: Convert system of equations into Coefficient Matrix\n",
    "$\\begin{matrix}\n",
    " x_1-3x_2= 5\\\\ \n",
    " -x_1+x_2+5x_3 = 2 \\\\ \n",
    " x_2+x_3 = 5\n",
    "\\end{matrix} = \\begin{bmatrix}  1&-3&0&5 \\\\ -1&1&5&2\\\\0&1&1&0\\end{bmatrix} %0$"
   ]
  },
  {
   "cell_type": "markdown",
   "metadata": {},
   "source": [
    "#### Step 2:  Add row 1 to row 2 and replace"
   ]
  },
  {
   "cell_type": "markdown",
   "metadata": {},
   "source": [
    "$\\begin{bmatrix}  1&-3&0&5 \\\\ 0&-2&5&7\\\\0&1&1&0\\end{bmatrix}$"
   ]
  },
  {
   "cell_type": "markdown",
   "metadata": {},
   "source": [
    "#### Step 3: Swap row 3 with row 2\n",
    "\n",
    "$\\begin{bmatrix}  1&-3&0&5 \\\\0&1&1&0\\\\ 0&-2&5&7\\end{bmatrix}$"
   ]
  },
  {
   "cell_type": "markdown",
   "metadata": {},
   "source": [
    "#### Step 4:  Add 2x( row 2) to row 3\n",
    "\n",
    "$\\begin{bmatrix}  1&-3&0&5 \\\\0&1&1&0\\\\ 0&0&7&7\\end{bmatrix}$\n"
   ]
  },
  {
   "cell_type": "markdown",
   "metadata": {},
   "source": [
    "#### Step 5:  Divide row 3 by 7\n",
    "\n",
    "$\\begin{bmatrix}  1&-3&0&5 \\\\0&1&1&0\\\\ 0&0&1&1\\end{bmatrix}$"
   ]
  },
  {
   "cell_type": "markdown",
   "metadata": {},
   "source": [
    "#### Step 6: Subtract row 3 from row 2\n",
    "\n",
    "$\\begin{bmatrix}  1&-3&0&5 \\\\0&1&0&-1\\\\ 0&0&1&1\\end{bmatrix}$"
   ]
  },
  {
   "cell_type": "markdown",
   "metadata": {},
   "source": [
    "#### Step 7: Add 3x(row 2) to row 1\n",
    "\n",
    "$\\begin{bmatrix}  1&0&0&2 \\\\0&1&0&-1\\\\ 0&0&1&1\\end{bmatrix}$"
   ]
  },
  {
   "cell_type": "markdown",
   "metadata": {},
   "source": [
    "####  Solution is (2, -1, 1)"
   ]
  },
  {
   "cell_type": "markdown",
   "metadata": {},
   "source": [
    "# 1.1.30\n",
    "\n",
    "Find the elementary row operation that transforms the first matrix into the second, and then find the reverse row operation that transforms the second matrix into the first."
   ]
  },
  {
   "cell_type": "markdown",
   "metadata": {},
   "source": [
    "$\\begin{bmatrix}1&3&-4 \\\\0&-2&6\\\\ 0&-5&9\\end{bmatrix}$ , $\\begin{bmatrix}1&3&-4\\\\0&1&-3\\\\0&-5&9\\end{bmatrix}$"
   ]
  },
  {
   "cell_type": "markdown",
   "metadata": {},
   "source": [
    "#### Solution\n",
    "\n",
    "To transform matrix 1 to matrix 2\n",
    "`divide row 2 by -2 for matrix 1`\n",
    "\n",
    "To reverse the row operation from matrix 2 to matrix 1 \n",
    "`multiply row 2 in matrix 2, by -2`\n"
   ]
  },
  {
   "cell_type": "code",
   "execution_count": null,
   "metadata": {},
   "outputs": [],
   "source": []
  }
 ],
 "metadata": {
  "kernelspec": {
   "display_name": "Python 3",
   "language": "python",
   "name": "python3"
  },
  "language_info": {
   "codemirror_mode": {
    "name": "ipython",
    "version": 3
   },
   "file_extension": ".py",
   "mimetype": "text/x-python",
   "name": "python",
   "nbconvert_exporter": "python",
   "pygments_lexer": "ipython3",
   "version": "3.7.4"
  }
 },
 "nbformat": 4,
 "nbformat_minor": 2
}
