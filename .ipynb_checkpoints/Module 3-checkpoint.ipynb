{
 "cells": [
  {
   "cell_type": "markdown",
   "metadata": {},
   "source": [
    "#### Derek Haynes\n",
    "#### Math 303\n",
    "#### Module 3 "
   ]
  },
  {
   "cell_type": "markdown",
   "metadata": {},
   "source": [
    "# Module 3"
   ]
  },
  {
   "cell_type": "markdown",
   "metadata": {},
   "source": [
    "## 2.1.11 \n",
    "\n",
    "Let $A = \\begin{bmatrix}1&1&1\\\\1&2&3\\\\1&4&5\\end{bmatrix}$ and $D = \\begin{bmatrix}2&0&0\\\\0&3&0\\\\0&0&5\\end{bmatrix}$. Compute AD and DA.  Explain how the columns or rows of Achange when A is multiplied by D on the right or on the left.  Find a 3x3 matrix B, not the identity matrx or the zero matrix such that AB = BA. \n",
    "\n"
   ]
  },
  {
   "cell_type": "markdown",
   "metadata": {},
   "source": [
    "Solution: \n",
    "\n",
    "$AD = \\begin{bmatrix} 1*2+1*0+1*0 & 1*0+1*3+1*0 & 1*0+1*0+1*5\\\\ 1*2+2*0+3*0 & 1*0 + 2*3+3*0 & 1*0+2*0+3*5 \\\\ 1*2+4*0+5*0 & 1*0+4*3+5*0 & 1*0 +4*0+5*5\n",
    "    \\end{bmatrix} = \\begin{bmatrix} 2 & 3 &5 \\\\ 2& 6 &15 \\\\ 2&12&25\\end{bmatrix}$\n",
    "    \n",
    "    "
   ]
  },
  {
   "cell_type": "markdown",
   "metadata": {},
   "source": [
    "$DA = \\begin{bmatrix}2&2&2\\\\3&6&9\\\\5&20&25\\end{bmatrix}$"
   ]
  },
  {
   "cell_type": "markdown",
   "metadata": {},
   "source": [
    "To find a 3x3 matrix $B$ such that $AB = BA$\n",
    "\n",
    "We chose $B$ to any multiple of the identity matrix $I_3$\n",
    "\n",
    "B "
   ]
  },
  {
   "cell_type": "markdown",
   "metadata": {},
   "source": [
    "## 2.1.29\n",
    "\n",
    "Prove theorem 2(b) and 2(c).  Use the row-column rule. The (i,j)-entry in A(B+C) can be written as: \n",
    "\n",
    "$a_{i1}b_{ij}+...+a_{in}(b_{nj}+c_{nj})$ or $\\sum\\limits^{n}_{k=0}a_{ik}(b_{kj}+c_{kj})$"
   ]
  },
  {
   "cell_type": "markdown",
   "metadata": {},
   "source": [
    "#### Solution: \n",
    "\n",
    "##### Part 1 \n",
    "\n",
    "Theorem (2b): A(B+C) = AB+AC `the left distributive law`\n",
    "\n",
    "Multiplication of two matrices is possible when number of rows in the first matrix is equal to the number of columns in the second matrix \n",
    "\n",
    "the $(i,j)^{th}$ entry of $A(B+C) = \\sum\\limits^{n}_{k=0}a_{ik}(b_{kj}+c_{kj})$  \n",
    "\n",
    " $ = a_{i1}(b_{ij}+c_{ij})...+a_{in}(b_{nj}+c_{nj})$\n",
    " \n",
    " $ = a_{i1}b_{ij}+a_{ij}c_{ij}...+a_{in}b_{nj}+a_{in}c_{nj} $\n",
    " \n",
    " $ = (a_{i1}b_{1j}+...+a_{in}b_{nj})+(a_{i1}c_{1j}+...+a_{in}c_{nj})$ \n",
    " \n",
    " there for\n",
    " \n",
    " $\\sum\\limits^{n}_{k=0}a_{ik}b_{kj} + \\sum\\limits^{n}_{k=0}a_{ik}c_{kj}$\n",
    " \n",
    " and the $(i,j)^{th}$ entry in $(AB+AC)$"
   ]
  },
  {
   "cell_type": "markdown",
   "metadata": {},
   "source": [
    "##### Part 2 \n",
    "Theorem 2(c): (B+C)A = BA + CA  `the right distributive law`"
   ]
  },
  {
   "cell_type": "markdown",
   "metadata": {},
   "source": [
    "the $(i,j)^{th}$ entry of $(B+C))A = \\sum\\limits^{n}_{k=0}(b_{kj}+c_{kj})a_{kj}$ \n"
   ]
  },
  {
   "cell_type": "markdown",
   "metadata": {},
   "source": [
    "= $(b_{i1}+c_{i1})a_{i1}+...+(b_{in}+c_{in})a_{in}$\n",
    "\n",
    "= $b_{i1}a_{i1}+c_{i1}a_{i1}+...+b_{in}a_{in}+c_{in}a_{in}$\n",
    "\n",
    "= $(b_{i1}a_{i1}+b_{in}a_{in})+...+(c_{i1}a_{i1}+c_{in}a_{in})$\n",
    "\n",
    " there for\n",
    " \n",
    " $\\sum\\limits^{n}_{k=0}b_{ik}a_{kj} + \\sum\\limits^{n}_{k=0}c_{ik}a_{kj}$\n",
    " \n",
    " and the $(i,j)^{th}$ entry in $(BA+CA)$\n",
    "\n"
   ]
  },
  {
   "cell_type": "code",
   "execution_count": null,
   "metadata": {},
   "outputs": [],
   "source": []
  },
  {
   "cell_type": "markdown",
   "metadata": {},
   "source": [
    "## 2.1.30\n",
    "\n",
    "Prove theorem 2(d):  $r(AB) = r(A)B = A(rB)$ for any scalar $r$\n"
   ]
  },
  {
   "cell_type": "markdown",
   "metadata": {},
   "source": [
    "solution:\n",
    "\n",
    "##### Part 1 \n",
    "\n",
    "knowing $AB_{ij} = a_{i1}b_{1j}+a_{i2}{b_2j}+...+a_{in}b_{nj}$\n",
    "\n",
    "the $(i,j)^{th}$ entry in $r(A)B$ is \n",
    "\n",
    "= $(ra_{i1})b_{1j}+ ...+(ra_{in})b_{nj}$\n",
    "\n",
    "= $r(a_{i1})b_{1j}+ ...+r(a_{in})b_{nj}$ \n",
    "\n",
    "= $r((a_{i1}b_{1j})+ ...+(a_{in}b_{nj)})$\n",
    "\n",
    "= $(i,j)^{th}$ entry in $r(AB)$\n",
    "\n",
    "giving $(rA)B = r(AB)$ \n",
    "\n"
   ]
  },
  {
   "cell_type": "markdown",
   "metadata": {},
   "source": [
    "##### Part 2\n",
    "\n",
    "= $(ra_{i1})b_{1j}+ ...+(ra_{in})b_{nj}$ \n",
    "\n",
    "= $a_{i1}r(b_{1j})+ ...+a_{in}r(b_{nj})$ \n",
    "\n",
    "= $a_{i1}r(b_{1j})+ ...+a_{in}r(b_{nj})$ \n",
    "\n",
    "= $a_{i1}(rb_{1j})+ ...+a_{in}(rb_{nj})$ \n",
    "\n",
    "gives $(rA)B = A(rB)$ \n"
   ]
  },
  {
   "cell_type": "markdown",
   "metadata": {},
   "source": [
    "##### Part 3"
   ]
  },
  {
   "cell_type": "markdown",
   "metadata": {},
   "source": [
    "Therefore $r(AB) = (rA)B = A(rB)$"
   ]
  },
  {
   "cell_type": "markdown",
   "metadata": {},
   "source": [
    "## 2.1.33"
   ]
  },
  {
   "cell_type": "markdown",
   "metadata": {},
   "source": [
    "Prove theorem 3(d):  $(AB^T) = B^TA^T$ "
   ]
  },
  {
   "cell_type": "markdown",
   "metadata": {},
   "source": [
    "Solution: \n",
    "\n",
    "##### Part 1\n",
    "\n",
    "knowing $AB_{ij} = a_{i1}b_{1j}+a_{i2}{b_2j}+...+a_{in}b_{nj}$\n",
    "\n",
    "the $(i,j)^{th}$ entry of $(AB)^T$ is the $(j,i)^{th}$ entry of $AB$\n",
    "\n",
    "and is $a_{ji}b_{1i}+...+a_{jn}b_{ni}$\n",
    "\n",
    "Therefore the $(i,j)^{th}$ entry in $(AB)^T$ is  $a_{ji}b_{1i}+...+a_{jn}b_{ni}$"
   ]
  },
  {
   "cell_type": "markdown",
   "metadata": {},
   "source": [
    "##### Part 2\n",
    "\n",
    "entries in row $i$ of $B^T$ are the entries of column $i$ in $B$\n",
    "\n",
    "so row $i$ of $B^T$ are $b_{1j},....,b_{ni}$\n",
    "\n",
    "The entries in column $j$  $A^T$ are $a_{ji},....a_{jn}$ \n",
    "\n",
    "Therefore, the $(i,j)^{th}$ entry in $B^TA^T$ = $a_{ji}b_{1i}+...+a_{jn}b_{ni}$\n",
    "\n",
    "And thus $(AB)^T = B^TA^T$"
   ]
  },
  {
   "cell_type": "markdown",
   "metadata": {},
   "source": [
    "# 2.2.7\n",
    "\n",
    "Find $A^-1$ and use it to solve the four equations $Ax = b_{1}$, $Ax = b_{2}$ , $Ax = b_{3}$, $Ax = b_{4}$\n",
    "\n",
    "Given: $A = \\begin{bmatrix}1&2\\\\5&12\\end{bmatrix}$, $b_1 = \\begin{bmatrix}-1\\\\3\\end{bmatrix}$, $b_2 = \\begin{bmatrix}1\\\\-5\\end{bmatrix}$, $b_3 = \\begin{bmatrix}2\\\\6\\end{bmatrix}$, $b_4 = \\begin{bmatrix}3\\\\5\\end{bmatrix}$"
   ]
  },
  {
   "cell_type": "markdown",
   "metadata": {},
   "source": [
    "Solution: \n",
    "\n",
    "##### Part 1:\n",
    "\n",
    "Using Theorem 4 and a Ti-84\n",
    "\n",
    "$A^-1 = \\begin{bmatrix} 6&-1\\\\\\frac{-5}{2}&\\frac{1}{2}\\end{bmatrix}$\n",
    "\n",
    "$Ab_1 = \\begin{bmatrix}-9\\\\4\\end{bmatrix}$ \n",
    "\n",
    "$Ab_2 = \\begin{bmatrix}11\\\\-5\\end{bmatrix}$ \n",
    "\n",
    "$Ab_3 = \\begin{bmatrix}6\\\\-2\\end{bmatrix}$ \n",
    "\n",
    "$Ab_4 = \\begin{bmatrix}13\\\\-5\\end{bmatrix}$ \n",
    "\n"
   ]
  },
  {
   "cell_type": "markdown",
   "metadata": {},
   "source": [
    "##### Part 2\n",
    "\n",
    "\n",
    "$ \\begin{bmatrix}A&b_1&b_2&b_3&b_4\\end{bmatrix}$ = $\\begin{bmatrix}1&2&-1&1&2&4\\\\5&12&3&-5&6&5\\end{bmatrix}$ \n"
   ]
  },
  {
   "cell_type": "markdown",
   "metadata": {},
   "source": [
    "Row reduce the augmented matrix\n",
    "\n",
    "1. $R_2 \\rightarrow -5R_1+R_2$\n",
    "\n",
    "2. $R_2 \\rightarrow \\frac{1}{2}R_2$\n",
    "\n",
    "3. $R_1 \\rightarrow -2R_2+R_1$\n",
    "\n",
    "= $\\begin{bmatrix}1&0&-9&11&6&13\\\\0&1&4&-5&-2&-5\\end{bmatrix}$"
   ]
  },
  {
   "cell_type": "markdown",
   "metadata": {},
   "source": [
    "# 2.2.8\n",
    "\n",
    "Use matrix Algebra to show that if A is invertible and D satisfies $AD = I$, then $D = A^{-1}$\n",
    "\n",
    "Solution: \n",
    "\n",
    "If $AD = I$ we can left multiply both sides by $A^{-1}$\n",
    "\n",
    "to get $ID$ = $A^{-1}I$  (since $A^{-1}A = I$ and $A^{-1}I = A^{-1}$)\n",
    "\n",
    "\n",
    "\n",
    "$D$ = $A^{-1}$ "
   ]
  },
  {
   "cell_type": "markdown",
   "metadata": {},
   "source": [
    "# 2.2.15\n",
    "\n",
    "Suppose A, B, C are invertible $nxn$ matrices.  Show that ABC is also invertible by producing a Matrix $D$ such that $(ABC)D = I$ and $D(ABC) = I$.  "
   ]
  },
  {
   "cell_type": "markdown",
   "metadata": {},
   "source": [
    "Solution:\n",
    "\n",
    "##### Part 1\n",
    "\n",
    "Set $D = (CBA)^{-1}= (C^{-1}B^{-1}A^{-1})$\n",
    "\n",
    "then $(ABC)D = I$ \n",
    "\n",
    "$= (ABC)(C^{-1}B^{-1}A^{-1}) =I$\n",
    "\n",
    "By regrouping\n",
    "\n",
    "$= AB(CC^{-1})B^{-1}A^{-1} =I$\n",
    "\n",
    "$= AB(I)B^{-1}A^{-1} =I$\n",
    "\n",
    "Continuing regrouping until\n",
    "\n",
    "= $I$\n",
    "\n",
    "Therefore $(ABC)D = (ABC)(C^{-1}B^{-1}A^{-1}) = I$\n"
   ]
  },
  {
   "cell_type": "markdown",
   "metadata": {},
   "source": [
    "##### Part 2\n",
    "\n",
    "Again,  set $D = (ABC)^{-1}= (C^{-1}B^{-1}A^{-1})\n",
    "\n",
    "then $D(ABC) = I$\n",
    "\n",
    "$= (C^{-1}B^{-1}A^{-1})(ABC) =I$\n",
    "\n",
    "By regrouping\n",
    "\n",
    "$= C^{-1}B^{-1}(A^{-1}A)BC=I$\n",
    "\n",
    "$= C^{-1}B^{-1}(I)BC=I$\n",
    "\n",
    "= $= C^{-1}B^{-1}BC=I$\n",
    "\n",
    "Continuing regrouping until\n",
    "\n",
    "= $I$\n",
    "\n",
    "Therefore $D(ABC) = (C^{-1}B^{-1}A^{-1})(ABC) = I$"
   ]
  },
  {
   "cell_type": "markdown",
   "metadata": {},
   "source": [
    "# 2.2.25\n",
    "\n",
    "Show that if $ad - bc = 0$, then the equation $Ax = 0$ has more than one solution.  Why does this imply that A is not invertible?"
   ]
  },
  {
   "cell_type": "code",
   "execution_count": null,
   "metadata": {},
   "outputs": [],
   "source": []
  },
  {
   "cell_type": "markdown",
   "metadata": {},
   "source": [
    "# 2.2.32\n",
    "Find the inverse of the matrix (if it exists)\n",
    "\n",
    "$\\begin{bmatrix}1&-2&1\\\\4&-7&3\\\\-2&6&-4\\end{bmatrix}$"
   ]
  },
  {
   "cell_type": "markdown",
   "metadata": {},
   "source": [
    "##### Solution\n",
    "\n",
    "$[A I] = \\begin{bmatrix}1&-2&1&1&0&0\\\\4&-7&3&0&1&0\\\\-2&6&-4&0&0&1\\end{bmatrix}$"
   ]
  },
  {
   "cell_type": "markdown",
   "metadata": {},
   "source": [
    "step1 $R_2 \\rightarrow -4R_1+R_2$\n",
    "\n",
    "= $\\begin{bmatrix}1&-2&1&1&0&0\\\\0&1&-1&-4&1&0\\\\-2&6&-4&0&0&1\\end{bmatrix}$"
   ]
  },
  {
   "cell_type": "markdown",
   "metadata": {},
   "source": [
    "step 2 $R_3 \\rightarrow 2R_1 +R_3 $\n",
    "\n",
    "= $\\begin{bmatrix}1&-2&1&1&0&0\\\\0&1&-1&-4&1&0\\\\0&2&-2&2&0&1\\end{bmatrix}$"
   ]
  },
  {
   "cell_type": "markdown",
   "metadata": {},
   "source": [
    "step 3 $R_3 \\rightarrow -2R_2 +R_3 $\n",
    "\n",
    "= $\\begin{bmatrix}1&-2&1&1&0&0\\\\0&1&-1&-4&1&0\\\\0&0&0&1&\\frac{-1}{5}&\\frac{1}{10}\\end{bmatrix}$"
   ]
  },
  {
   "cell_type": "markdown",
   "metadata": {},
   "source": [
    "Since all the entries in row 3 of the reduced echelon form of $A$ implies that $A$ is not equivalent to $I_3$ and the matrix $A$ is `not invertible`."
   ]
  },
  {
   "cell_type": "markdown",
   "metadata": {},
   "source": [
    "# 2.2.34"
   ]
  },
  {
   "cell_type": "markdown",
   "metadata": {},
   "source": [
    "Guess the inverse of \n",
    "\n",
    "$ A =\\begin{bmatrix}1&0&0&...&0\\\\1&2&0&{}&0\\\\1&2&3&{}&0\\\\..&{}&{}&...&...\\\\1&2&3&...&n\\end{bmatrix}$"
   ]
  },
  {
   "cell_type": "markdown",
   "metadata": {},
   "source": [
    "Solution: \n",
    "\n",
    "Guess\n",
    "\n",
    "$A^{-1} = \\begin{bmatrix}1&0&0&...&0\\\\\\frac{-1}{2}&\\frac{1}{2}&0&{}&0\\\\0&\\frac{-1}{3}&\\frac{1}{3}&{}&0\\\\...&{}&{}&...&...\\\\0&0&0&...&\\frac{1}{n}\\end{bmatrix}$"
   ]
  },
  {
   "cell_type": "markdown",
   "metadata": {},
   "source": [
    "Prove Guesss is correct \n",
    "\n",
    "$A A^{-1} = ?$ \n",
    "\n",
    "$\\begin{bmatrix}1&0&0&...&0\\\\1&2&0&{}&0\\\\1&2&3&{}&0\\\\..&{}&{}&...&...\\\\1&2&3&...&n\\end{bmatrix}\\begin{bmatrix}1&0&0&...&0\\\\\\frac{-1}{2}&\\frac{1}{2}&0&{}&0\\\\0&\\frac{-1}{3}&\\frac{1}{3}&{}&0\\\\...&{}&{}&...&...\\\\0&0&0&...&\\frac{1}{n}\\end{bmatrix} = I$\n",
    "\n",
    "Therefore the guess was correct for the $A^{-1}$"
   ]
  },
  {
   "cell_type": "markdown",
   "metadata": {},
   "source": [
    "# 2.3.1 \n",
    "\n",
    "Determine if the matrix is invertible\n",
    "\n",
    "Given: \n",
    "$\\begin{bmatrix}5&7\\\\-3&-6\\end{bmatrix}$"
   ]
  },
  {
   "cell_type": "markdown",
   "metadata": {},
   "source": [
    "Solution: \n",
    "\n",
    "A set of two vectors are `linearly dependent` if at least one of the vectors is a multiple of the the other.  Vector $a_1$ is not a multiple of vector $a_2$ so by thereom 8(e), the matrix is `invertible`. \n",
    "\n"
   ]
  },
  {
   "cell_type": "markdown",
   "metadata": {},
   "source": [
    "# 2.3.2\n",
    "\n",
    "Determine if the matrix is invertible\n",
    "\n",
    "Given: \n",
    "$\\begin{bmatrix}-4&6\\\\6&-9\\end{bmatrix}$"
   ]
  },
  {
   "cell_type": "markdown",
   "metadata": {},
   "source": [
    "Solution: \n",
    "\n",
    "A set of two vectors are linearly dependent if at least one of the vectors is a multiple of the the other.  Vector $a_1$ is a multiple of vector $a_2$ (using -1.5 as the scalar) so by thereom 8(e), the matrix is `not invertible`. \n",
    "\n"
   ]
  },
  {
   "cell_type": "markdown",
   "metadata": {},
   "source": [
    "# 2.3.3\n",
    "\n",
    "Determine if the matrix is invertible\n",
    "\n",
    "Given: $\\begin{bmatrix}5&0&0\\\\-3&-7&0\\\\8&5&-1\\end{bmatrix}$"
   ]
  },
  {
   "cell_type": "markdown",
   "metadata": {},
   "source": [
    "Solution: \n",
    "\n",
    "step 1. $R_2 \\rightarrow \\frac{3}{5}R_1 + R_2$\n",
    "\n",
    "$\\begin{bmatrix}5&0&0\\\\0&-7&0\\\\8&5&-1\\end{bmatrix}$\n",
    "\n"
   ]
  },
  {
   "cell_type": "markdown",
   "metadata": {},
   "source": [
    "Step 2. $R_2 \\rightarrow \\frac{-8}{5}R_1 +R_3$\n",
    "\n",
    "$\\begin{bmatrix}5&0&0\\\\0&-7&0\\\\0&5&-1\\end{bmatrix}$"
   ]
  },
  {
   "cell_type": "markdown",
   "metadata": {},
   "source": [
    "Step 3. $R_2 \\rightarrow \\frac{-1}{7}R_2$\n",
    "\n",
    "$\\begin{bmatrix}5&0&0\\\\0&1&0\\\\0&5&-1\\end{bmatrix}$"
   ]
  },
  {
   "cell_type": "markdown",
   "metadata": {},
   "source": [
    "Step 4. $R_3 \\rightarrow -5R_2 + R_3$ \n",
    "\n",
    "$\\begin{bmatrix}5&0&0\\\\0&1&0\\\\0&0&-1\\end{bmatrix}$"
   ]
  },
  {
   "cell_type": "markdown",
   "metadata": {},
   "source": [
    " By Theorem 8c,  there are n pivot positions, therefore the matrix is `invertible`"
   ]
  },
  {
   "cell_type": "markdown",
   "metadata": {},
   "source": [
    "# 2.3.4\n",
    "\n",
    "Determine if the matrix is invertible\n",
    "\n",
    "Given: $\\begin{bmatrix}-7&0&4\\\\3&0&-1\\\\2&0&9\\end{bmatrix}$"
   ]
  },
  {
   "cell_type": "markdown",
   "metadata": {},
   "source": [
    "Since there is a zero vector in the set, the set is linearly dependent and therfore, `not invertible`."
   ]
  },
  {
   "cell_type": "markdown",
   "metadata": {},
   "source": [
    "# 2.3.5\n",
    "\n",
    "Determine if the matrix is invertible\n",
    "\n",
    "Given: $\\begin{bmatrix}0&3&-5\\\\1&0&2\\\\-4&-9&7\\end{bmatrix}$"
   ]
  },
  {
   "cell_type": "markdown",
   "metadata": {},
   "source": [
    "Step 1. Swap $R_1$ and $R_2$\n",
    "\n",
    "$\\begin{bmatrix}1&0&2\\\\0&3&-5\\\\-4&-9&7\\end{bmatrix}$"
   ]
  },
  {
   "cell_type": "markdown",
   "metadata": {},
   "source": [
    "Step 2. $R_3 \\rightarrow 4R_1 + R_3$\n",
    "\n",
    "\n",
    "$\\begin{bmatrix}1&0&2\\\\0&3&-5\\\\0&-9&15\\end{bmatrix}$\n"
   ]
  },
  {
   "cell_type": "markdown",
   "metadata": {},
   "source": [
    "Step 3. $R_3 \\rightarrow 3R_2 + R_3$\n",
    "\n",
    "\n",
    "$\\begin{bmatrix}1&0&2\\\\0&3&-5\\\\0&0&0\\end{bmatrix}$\n",
    "\n"
   ]
  },
  {
   "cell_type": "markdown",
   "metadata": {},
   "source": [
    "The Matrix is does not have an element in every pivot postion and is therefore `not invertible`."
   ]
  },
  {
   "cell_type": "markdown",
   "metadata": {},
   "source": [
    "# 2.3.6\n",
    "\n",
    "Determine if the matrix is invertible\n",
    "\n",
    "Given: $\\begin{bmatrix}1&-5&-4\\\\0&3&4\\\\-3&6&0\\end{bmatrix}$"
   ]
  },
  {
   "cell_type": "markdown",
   "metadata": {},
   "source": [
    "Solution: \n",
    "\n",
    "$\\begin{bmatrix}1&-5&-4\\\\0&3&4\\\\-3&6&0\\end{bmatrix}$ ~ $\\begin{bmatrix}1&-5&-4\\\\-3&6&0\\\\0&3&4\\end{bmatrix}$ ~  $\\begin{bmatrix}1&-5&-4\\\\0&-9&-12\\\\0&3&4\\end{bmatrix}$ ~ $\\begin{bmatrix}1&-5&-4\\\\0&-9&-12\\\\0&0&0\\end{bmatrix}$\n"
   ]
  },
  {
   "cell_type": "markdown",
   "metadata": {},
   "source": [
    "The matrix is `not invertible` since its row equivalent is not equal to the identity matrix. "
   ]
  },
  {
   "cell_type": "markdown",
   "metadata": {},
   "source": [
    "# 2.3.7\n",
    "\n",
    "Determine if the matrix is invertible\n",
    "\n",
    "Given: $\\begin{bmatrix}-1&-3&0&1\\\\3&5&8&-3\\\\-2&-6&3&2\\\\0&-1&2&1\\end{bmatrix}$"
   ]
  },
  {
   "cell_type": "markdown",
   "metadata": {},
   "source": [
    "Solution: \n",
    "\n",
    "Step 1:  $R_2 \\rightarrow 3R_1 + R2$\n",
    "\n",
    "Step 2: $R_3 \\rightarrow -2R_1+R_3$\n",
    "\n",
    "Step 3. Swap $R_2$ with $R_4$\n",
    "\n",
    "Step 4. $R_4 \\rightarrow -4R_2+R_4$\n",
    "\n",
    "$\\begin{bmatrix}-1&-3&0&1\\\\0&-1&2&1\\\\0&0&3&0\\\\0&0&0&-4\\end{bmatrix}$\n",
    "\n",
    "\n",
    "The equivalent matrix has four pivot positions, and according to Theorem 8c, the matrix is `invertible`"
   ]
  },
  {
   "cell_type": "markdown",
   "metadata": {},
   "source": [
    "# 2.3.8\n",
    "\n",
    "Determine if the matrix is invertible\n",
    " Given: $\\begin{bmatrix}1&-3&7&4\\\\0&5&9&6\\\\0&0&2&8\\\\0&0&0&10\\end{bmatrix}$"
   ]
  },
  {
   "cell_type": "markdown",
   "metadata": {},
   "source": [
    "Solution: \n",
    "\n",
    "The matrix has four pivot positions, and according to Theorem 8c, the matrix is `invertible`"
   ]
  },
  {
   "cell_type": "markdown",
   "metadata": {},
   "source": [
    "# 2.3.27\n",
    "\n",
    "Show that if AB is invertible, so is A.  \n"
   ]
  },
  {
   "cell_type": "markdown",
   "metadata": {},
   "source": [
    "Solution:\n",
    "\n",
    "If both A and B are $n$ x $n$ matrices then the product $AB$ is a $2 x 2$ matrix. \n",
    "\n",
    "If the product of A and B is invertible then there has to be a matrix $W$ so that \n",
    "\n",
    "$(AB)W = I$\n",
    "\n",
    "Using the associative law of multiplication\n",
    "\n",
    "$A(BW) = I$\n",
    "\n",
    "In this case $BW$ is an inverse of $A$ and thus implies $A$ is invertible"
   ]
  },
  {
   "cell_type": "markdown",
   "metadata": {},
   "source": [
    "# 2.8.2\n",
    "\n",
    "Given: Display sets in $\\mathbb{R^2}$. Asumme the sets include bounding lines. In each case give a specific reason why the set $H$ is not a subspace of $\\mathbb{R^2}$\n"
   ]
  },
  {
   "cell_type": "markdown",
   "metadata": {},
   "source": [
    "Solution: \n",
    "\n",
    "The vectors $u = \\begin{bmatrix}1\\\\0\\end{bmatrix}$ and $v = \\begin{bmatrix}0\\\\-1\\end{bmatrix}$ are elements in $H$\n",
    "\n",
    "The sum of these two vectors:\n",
    "\n",
    "$v+u = \\begin{bmatrix}1\\\\-1\\end{bmatrix}$ are not in the given region and the set is not closed under addtion.  "
   ]
  },
  {
   "cell_type": "markdown",
   "metadata": {},
   "source": [
    "<img src=\"2.8.2.jpg\">"
   ]
  },
  {
   "cell_type": "markdown",
   "metadata": {},
   "source": [
    "# 2.8.4\n",
    "\n",
    "Given: Display sets in $\\mathbb{R^2}$. Asumme the sets include bounding lines. In each case give a specific reason why the set $H$ is not a subspace of $\\mathbb{R^2}$"
   ]
  },
  {
   "cell_type": "markdown",
   "metadata": {},
   "source": [
    "Solution: \n",
    "\n",
    "Vector $u = \\begin{bmatrix} a\\\\a\\end{bmatrix}$ is in the shaded region. \n",
    "\n",
    "if $c = -1$ and \n",
    "\n",
    "$cv = c\\begin{bmatrix}a\\\\a\\end{bmatrix} = \\begin{bmatrix}-a\\\\-a\\end{bmatrix}$  \n",
    "\n",
    "This does not lie in the shaded region and the set H is not in the subspace of $\\mathbb{R^2}$ because it is not closed under scalar multiplication."
   ]
  },
  {
   "cell_type": "markdown",
   "metadata": {},
   "source": [
    "<img src=\"2.8.4.jpg\">"
   ]
  },
  {
   "cell_type": "markdown",
   "metadata": {},
   "source": [
    "# 2.8.6\n",
    "\n",
    "Let $v_1 = \\begin{bmatrix}1\\\\-2\\\\-4\\\\3\\end{bmatrix}, v_2 =\\begin{bmatrix}4\\\\-7\\\\9\\\\7\\end{bmatrix}, v_3 = \\begin{bmatrix}5\\\\-8\\\\6\\\\5\\end{bmatrix}, u = \\begin{bmatrix}-4\\\\10\\\\-7\\\\-5\\end{bmatrix} $\n",
    "\n",
    "\n",
    "Determine if $u$ is in the subspace $\\mathbb{R^4}$ genereated by {$v_1$, $v_2$, $v_3$}\n"
   ]
  },
  {
   "cell_type": "markdown",
   "metadata": {},
   "source": [
    "Solution: \n",
    "\n",
    "Step 1. Row Reduce the Augmented Matrix\n",
    "\n",
    "$[vu]= \\begin{bmatrix}1&4&5&-4\\\\-2&-7&-8&10\\\\4&9&6&-7\\\\3&7&5&-5\\end{bmatrix}$ ~ $\\begin{bmatrix}1&0&0&0\\\\0&1&2&0\\\\0&0&0&1\\\\0&0&0&0\\end{bmatrix}$\n",
    "\n",
    "\n",
    "Vector u is a linear combination of the columns of $V$ since u can be written as $Vx$ for some x, that is, if and only if the equation $Vx = u$ has a solution.  \n",
    "\n",
    "Since the third row implies that there is no solution $0\\neq1$, the system is incosistent.  And $u$ is not in the subspace of $\\mathbb{R^4}$ generated by {$v_1$, $v_2$, $v_3$}"
   ]
  },
  {
   "cell_type": "markdown",
   "metadata": {},
   "source": [
    "# 2.8.8\n",
    "\n",
    "Let $v_1 = \\begin{bmatrix}-3\\\\0\\\\6\\end{bmatrix}, v_2 =\\begin{bmatrix}-2\\\\2\\\\3\\end{bmatrix}, v_3 = \\begin{bmatrix}0\\\\-6\\\\3\\end{bmatrix}, p = \\begin{bmatrix}1\\\\14\\\\-9\\end{bmatrix} $\n",
    "\n",
    "\n",
    "Determine if $p$ is in the subspace $\\mathbb{R^3}$ genereated by {$v_1$, $v_2$, $v_3$}"
   ]
  },
  {
   "cell_type": "markdown",
   "metadata": {},
   "source": [
    "Solution: \n",
    "\n",
    "Step 1. Row Reduce the Augmented Matrix\n",
    "\n",
    "$[Vp]= \\begin{bmatrix}-3&-2&0&1\\\\0&2&-6&14\\\\6&3&3&-9\\end{bmatrix}$ ~ $\\begin{bmatrix}1&0&2&5\\\\0&1&-3&7\\\\0&0&0&0\\end{bmatrix}$\n",
    "\n",
    "The system is cosistent and $p$ is in the subspace of $\\mathbb{R^3}$ generated by {$v_1$, $v_2$, $v_3$}"
   ]
  },
  {
   "cell_type": "markdown",
   "metadata": {},
   "source": [
    "# 2.8.12\n",
    "\n",
    "Given:  \n",
    "\n",
    "$A = \\begin{bmatrix}1&2&3\\\\4&5&7\\\\-5&-1&0\\\\2&7&11\\end{bmatrix}$\n",
    "\n",
    "Give integers $p$ and $q$ such that Nul $A$ is a subspace of $\\mathbb{R^p}$ and Col $A$ is a subspace of $\\mathbb{R^q}$"
   ]
  },
  {
   "cell_type": "markdown",
   "metadata": {},
   "source": [
    "Solution: \n",
    "\n",
    "Matrix A hs 4 rows and 3 columns.  The null space of an $m$x$n$ matrix is a subspace of $\\mathbb{R^n}$.  NulA is a subspace of $\\mathbb{R^3}$ because solutions of $Ax =0$ must have 3 entries to match the number of columns in $A$.  \n",
    "\n",
    "$p = 3$ \n",
    "\n",
    "The column space of an $m$x$n$ matri A is a subspace of $\\mathbb{R^m}$ so Col$A$ is a subspace of $\\mathbb{R^4} because each column vector has 4 entries$\n",
    "\n",
    "$q = 4$ "
   ]
  },
  {
   "cell_type": "markdown",
   "metadata": {},
   "source": [
    "2.8.14\n",
    "\n",
    "Given:  \n",
    "\n",
    "$A = \\begin{bmatrix}1&2&3\\\\4&5&7\\\\-5&-1&0\\\\2&7&11\\end{bmatrix}$\n",
    "\n",
    "Find a non-zero vector in Nul$A$ and a non-zero vector in Col$A$"
   ]
  },
  {
   "cell_type": "markdown",
   "metadata": {},
   "source": [
    "Solution:\n",
    "Step 1.  \n",
    "\n",
    "Solve $Ax = 0$ by writing the Augmented Matrix [A 0] and row reducing \n",
    "\n",
    "$A = \\begin{bmatrix}1&2&3&0\\\\4&5&7&0\\\\-5&-1&0&0\\\\2&7&11&0\\end{bmatrix}$ ~$\\begin{bmatrix}1&0&\\frac{-1}{3}&0\\\\0&1&\\frac{5}{3}&0\\\\0&0&0&0\\\\0&0&0&0\\end{bmatrix}$\n",
    "\n"
   ]
  },
  {
   "cell_type": "markdown",
   "metadata": {},
   "source": [
    "Step 2. \n",
    "\n",
    "The system of equations becomes\n",
    "\n",
    "$\\begin{matrix}x_1+\\frac{-1}{3}x_3 = 0\\\\ x_2+\\frac{5}{3} = 0\\end{matrix}$\n",
    "\n",
    "$x_1 = \\frac{1}{3}x_3$\n",
    "\n",
    "$x_2 = \\frac{-5}{3}x_3$\n",
    "\n",
    "$x_3$ is free\n",
    "\n",
    "thus the solution set is $ = x_3\\begin{bmatrix}\\frac{1}{3}\\\\\\frac{-5}{3}\\\\1\\end{bmatrix}$ "
   ]
  },
  {
   "cell_type": "markdown",
   "metadata": {},
   "source": [
    "To find the nonzer vector in column space of A using the row reduced form from above\n",
    "\n",
    "$A = \\begin{bmatrix}1&2&3&0\\\\4&5&7&0\\\\-5&-1&0&0\\\\2&7&11&0\\end{bmatrix}$ ~$\\begin{bmatrix}1&0&\\frac{-1}{3}&0\\\\0&1&\\frac{5}{3}&0\\\\0&0&0&0\\\\0&0&0&0\\end{bmatrix}$\n",
    "\n",
    "In the resultant matrix, we can see colums a_1 and a_2 are pivot columns and therefore know theses coliumns from the original matrix define the column space of the matrix (Theorem 13). \n",
    "\n",
    "so $\\begin{bmatrix}1\\\\4\\\\-5\\\\2\\end{bmatrix}$ and $\\begin{bmatrix}2\\\\5\\\\-1\\\\7\\end{bmatrix}$ are non-zero vectors in $ColA$\n"
   ]
  },
  {
   "cell_type": "markdown",
   "metadata": {},
   "source": [
    "# 2.8.18\n",
    "\n",
    "given:\n",
    "\n",
    "$\\begin{bmatrix}1\\\\1\\\\-2\\end{bmatrix}, \\begin{bmatrix}-5\\\\-1\\\\2\\end{bmatrix}, \\begin{bmatrix}7\\\\0\\\\-5\\end{bmatrix} $\n",
    "\n",
    "Determine which sets are bases for $\\mathbb{R^3}$"
   ]
  },
  {
   "cell_type": "markdown",
   "metadata": {},
   "source": [
    "Solution: \n",
    "\n",
    "Step 1.  We verify the 3 vector are linearly independent because they are not scalar multiples of each other.\n",
    "\n",
    "Step 2.  Write the vectors in matrix form and row reduce into echelon form. \n",
    "\n",
    "$\\begin{bmatrix}1&-5&7\\\\1&-1&0\\\\-2&2&-5\\end{bmatrix}$ ~ $\\begin{bmatrix}1&0&0\\\\0&1&0\\\\0&0&1\\end{bmatrix}$\n",
    "\n",
    "We can see the matrix has three pivots so, by the inverse matrix transform rule, the matrix is invertible and its columns form the basis for $\\mathbb{R^3}$"
   ]
  },
  {
   "cell_type": "markdown",
   "metadata": {},
   "source": [
    "2.8.20\n",
    "\n",
    "given:\n",
    "\n",
    "$\\begin{bmatrix}1\\\\-6\\\\-7\\end{bmatrix}, \\begin{bmatrix}3\\\\-4\\\\7\\end{bmatrix}, \\begin{bmatrix}-2\\\\7\\\\5\\end{bmatrix}, \n",
    "\\begin{bmatrix}0\\\\8\\\\9\\end{bmatrix}$\n",
    "\n",
    "Determine which sets are bases for $\\mathbb{R^3}$\n"
   ]
  },
  {
   "cell_type": "markdown",
   "metadata": {},
   "source": [
    "Step 1.  We verify the 4 vector are linearly independent because they are not scalar multiples of each other.\n",
    "\n",
    "However since the set contains more vectors than number of entries in each vector, the set is `linearly dependent.`\n",
    "\n",
    "Since a basis for subspace H in $\\mathbb{R^3}$ is a set in linearly independent set in H in H that spans H,  the 4 vectors cannot be a basis for $\\mathbb{R^3}$"
   ]
  },
  {
   "cell_type": "markdown",
   "metadata": {},
   "source": [
    "# 2.8.26\n",
    "\n",
    "given: \n",
    "\n",
    "$A = \\begin{bmatrix}3&-1&7&3&9\\\\-2&2&-2&7&5\\\\-5&9&3&3&4\\\\-2&6&6&3&7\\end{bmatrix}$ ~ $\\begin{bmatrix}3&-1&7&0&6\\\\0&2&4&0&3\\\\0&0&0&1&1\\\\0&0&0&0&0\\end{bmatrix}$\n",
    "\n",
    "Find a basis for $ColA$ and $NulA$"
   ]
  },
  {
   "cell_type": "markdown",
   "metadata": {},
   "source": [
    "Solution:\n",
    "\n",
    "From the echelon form of a, we can see that $a_1$, $a_2$, and $a_4$ are pivot columns and form the basis for $ColA$ "
   ]
  },
  {
   "cell_type": "markdown",
   "metadata": {},
   "source": [
    "Solving for $Nul A$\n",
    "\n",
    "Step 1: \n",
    "\n",
    "$[A 0] = \\begin{bmatrix}3&-1&7&3&9&0\\\\-2&2&-2&7&5&0\\\\-5&9&3&3&4&0\\\\-2&6&6&3&7&0\\end{bmatrix} = \\begin{bmatrix}1&0&3&0&\\frac{5}{2}&0\\\\0&1&2&0&\\frac{3}{2}&0\\\\0&0&0&1&1&0\\\\0&0&0&0&0&0\\end{bmatrix}$\n",
    "\n"
   ]
  },
  {
   "cell_type": "markdown",
   "metadata": {},
   "source": [
    "$\\begin{matrix}x_1+3x_3+\\frac{5}{2}x_5 = 0\\\\ x_2+2x_3+\\frac{3}{2}x_5 = 0\\\\x_4+x_5 = 0\\end{matrix}$ "
   ]
  },
  {
   "cell_type": "markdown",
   "metadata": {},
   "source": [
    "$\\begin{bmatrix}x_1\\\\x_2\\\\x_3\\\\x_4\\\\x_5\\end{bmatrix} = \\begin{bmatrix} -3x_3-\\frac{5}{2}x_5\\\\-2x_3-\\frac{3}{2}x_5\\\\x_4 = -x_5\\\\ x_5 \\end{bmatrix} = x_3\\begin{bmatrix}-3\\\\-2\\\\1\\\\0\\\\0\\end{bmatrix}+x_5\\begin{bmatrix}-\\frac{5}{2}\\\\\\frac{-3}{2}\\\\0\\\\-1\\\\1\\end{bmatrix}$"
   ]
  },
  {
   "cell_type": "markdown",
   "metadata": {},
   "source": [
    "$\\begin{bmatrix}-3\\\\-2\\\\1\\\\0\\\\0\\end{bmatrix},\\begin{bmatrix}-\\frac{5}{2}\\\\\\frac{-3}{2}\\\\0\\\\-1\\\\1\\end{bmatrix}$ are the basis for $NulA$"
   ]
  },
  {
   "cell_type": "code",
   "execution_count": null,
   "metadata": {},
   "outputs": [],
   "source": []
  }
 ],
 "metadata": {
  "kernelspec": {
   "display_name": "R",
   "language": "R",
   "name": "ir"
  },
  "language_info": {
   "codemirror_mode": "r",
   "file_extension": ".r",
   "mimetype": "text/x-r-source",
   "name": "R",
   "pygments_lexer": "r",
   "version": "3.6.1"
  }
 },
 "nbformat": 4,
 "nbformat_minor": 2
}
