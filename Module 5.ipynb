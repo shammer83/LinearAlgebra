{
 "cells": [
  {
   "cell_type": "markdown",
   "metadata": {},
   "source": [
    "Derek Haynes\n",
    "Math 303\n",
    "Module 5"
   ]
  },
  {
   "cell_type": "markdown",
   "metadata": {},
   "source": [
    "# 4.1.8\n",
    "\n",
    "Given: Determine if the give set is a subspace of $\\mathbb{P_n}$ for an appropriate value of n. \n",
    "\n",
    "All polynomial in $\\mathbb{P_n}$ such that $p(0) =0$."
   ]
  },
  {
   "cell_type": "markdown",
   "metadata": {},
   "source": [
    "Solution: \n",
    "\n",
    "Under the closed property of vectors \n",
    "\n",
    "if $(p + q)(0) = p(0) + q(0)$\n",
    "\n",
    "$ = 0 + 0$\n",
    "\n",
    "$ = 0$\n",
    "    \n",
    "thus $p+q$ is in the set H\n",
    "\n",
    "and H is closed under vector addition\n",
    "\n",
    "Under the property of scalar multiplication\n",
    "\n",
    "$cp(0) = c(p(0))$\n",
    "\n",
    "$= c \\cdot 0$\n",
    "\n",
    "$ = 0$\n",
    "\n",
    "Thus $cp(0)$ is in the set H and H is closed under scalar multiplication\n",
    "\n",
    "therefor the polynomials in $\\mathbb{P_n}$ such that p(0) = 0 is a subspace of $\\mathbb{P_n}$"
   ]
  },
  {
   "cell_type": "markdown",
   "metadata": {},
   "source": [
    "# 4.1.10\n",
    "\n",
    "Given:  Let H be the set of all vectors in the form $\\begin{bmatrix} 2t \\\\ 0 \\\\ -t \\end{bmatrix}$. Show that H is a subspace of $\\mathbb{R^3}.$"
   ]
  },
  {
   "cell_type": "markdown",
   "metadata": {},
   "source": [
    "Solution: \n",
    "\n",
    "$t = \\begin{bmatrix}2\\\\0\\\\-1\\end{bmatrix}$\n",
    "\n",
    "where H = span{v} and $v = \\begin{bmatrix}2\\\\0\\\\-1\\end{bmatrix}$\n",
    "\n",
    "Knowing that $v_1,.....v_p$ are in a vector space, then $span {v_1,....v_p}$  is a subspace of V.  Thus, H is a subspace of $\\mathbb{R^3}$"
   ]
  },
  {
   "cell_type": "markdown",
   "metadata": {},
   "source": [
    "# 4.1.12"
   ]
  },
  {
   "cell_type": "markdown",
   "metadata": {},
   "source": [
    "Given:  Let W be the set of all vectors of the from $\\begin{bmatrix} s+3t\\\\s-t\\\\2s-t\\\\4t\\end{bmatrix}$.  Show that W is a subspace of $\\mathbb{R^4}$. "
   ]
  },
  {
   "cell_type": "markdown",
   "metadata": {},
   "source": [
    "Solution: \n",
    "\n",
    "$=s\\begin{bmatrix}1\\\\1\\\\2\\\\0\\end{bmatrix}+t\\begin{bmatrix}3\\\\-1\\\\-1\\\\4\\end{bmatrix}$\n",
    "\n",
    "The calculation shows that $W = \\span{u,v}$ where $u,v$ are the vectors\n",
    "\n",
    "$u = \\begin{bmatrix}1\\\\1\\\\2\\\\0\\end{bmatrix}, v=\\begin{bmatrix}3\\\\-1\\\\-1\\\\4\\end{bmatrix}$\n",
    "\n",
    "Knowing that $v_1,.....v_p$ are in a vector space, then $span {v_1,....v_p}$  is a subspace of V.  Thus, H is a subspace of $\\mathbb{R^4}$"
   ]
  },
  {
   "cell_type": "markdown",
   "metadata": {},
   "source": [
    "# 4.1.14\n",
    "\n",
    "Given: Let $v_1 = \\begin{bmatrix}1\\\\0\\\\-1\\end{bmatrix}, v_2 = \\begin{bmatrix} 2\\\\1\\\\3\\end{bmatrix}, v_3 = \\begin{bmatrix}4\\\\2\\\\6\\end{bmatrix}, w = \\begin{bmatrix}8\\\\4\\\\7\\end{bmatrix}$.  Is $w$ in the subspace spanned by {$v_1,v_2,v_3$}?"
   ]
  },
  {
   "cell_type": "markdown",
   "metadata": {},
   "source": [
    "Solution: \n",
    "\n",
    "The vector w is in the subspace spanned by {$v_1, v_2, v_3$} if the equation $x_1v_1+x_2v_2+x_3+v_3 = w$ has a solution\n",
    "\n",
    "Step 1\n",
    "\n",
    "Row reduce the augmented matrix\n",
    "\n",
    "$\\begin{bmatrix} 1&2&4&8\\\\0&1&2&4\\\\-1&3&6&7\\end{bmatrix}$ ~ $\\begin{bmatrix} 1&0&0&0\\\\0&1&2&0\\\\0&0&0&1\\end{bmatrix}$\n",
    "\n",
    "The equation $x_1v_1+x_2v_2+x_3+v_3 = w$ has no solution since $0\\neq1$, so w is not in the subspace spanned by {$v_1, v_2, v_3$}"
   ]
  },
  {
   "cell_type": "markdown",
   "metadata": {},
   "source": [
    "# 4.1.28\n",
    "\n",
    "Fill in the missing axiom numbers in the following proof that \n",
    "$c(0) = 0$ for every scalar c. \n",
    "\n",
    "$c(0) = c(0+0)$ `Axiom 4: There is a zero vector 0 in V sucha that u +0 = 0 `\n",
    "\n",
    "$=c(0)+c(0)$ `Axiom 7: c(u+v) = cu+cv`\n",
    "\n",
    "Add the negative of $c0$ to both sides:\n",
    "\n",
    "$c(0)+-c(0) = [c(0)+c(0)] -c(0)$\n",
    "\n",
    "$c(0)+-c(0) = c(0)+[c(0) -c(0)]$ `Axiom 3: (u+v)+w = u+(v+w)`\n",
    "\n",
    "$0 = c0+0$ `Axiom 5: u+(-u) = 0`\n",
    "\n",
    "$0 = c0$ `Axiom 4: u+0 = 0`\n"
   ]
  },
  {
   "cell_type": "markdown",
   "metadata": {},
   "source": [
    "# 4.1.36\n",
    "\n",
    "Given: Determine if y is in the subspace of $\\mathbb{R^4}$ spanned by the columns of $A$, where\n",
    "\n",
    "y = $\\begin{bmatrix}-4\\\\-8\\\\6\\\\-5\\end{bmatrix}, A = \\begin{bmatrix} 3&-5&-9\\\\8&7&-6\\\\-5&-8&3\\\\2&-2&-9\\end{bmatrix}$"
   ]
  },
  {
   "cell_type": "markdown",
   "metadata": {},
   "source": [
    "Solution:\n",
    "\n",
    "Step 1.  Setup the Augmented Matrix and reduce to reduced echelon form\n",
    "\n",
    "$[A|y] = \\begin{bmatrix} 3&-5&-9&-4\\\\8&7&-6&-8\\\\-5&-8&3&6\\\\2&-2&-9&-5\\end{bmatrix}$ \n",
    "\n",
    "Step 2. \n",
    "\n",
    "$[A|y] = \\begin{bmatrix} 1&0&0&\\frac{-1}{5}\\\\0&1&0&\\frac{-2}{5}\\\\0&0&1&\\frac{3}{5}\\\\0&0&0&0\\end{bmatrix}$ \n",
    "\n",
    "The system is consistent and it has infinite solutions.  Also, the vector $y$ is a solution and is a linear combination of the three vectors in $A$.  Furthermore, the vector $y$ is in the subspace of $\\mathbb{R^4}$"
   ]
  },
  {
   "cell_type": "code",
   "execution_count": null,
   "metadata": {},
   "outputs": [],
   "source": []
  }
 ],
 "metadata": {
  "kernelspec": {
   "display_name": "R",
   "language": "R",
   "name": "ir"
  },
  "language_info": {
   "codemirror_mode": "r",
   "file_extension": ".r",
   "mimetype": "text/x-r-source",
   "name": "R",
   "pygments_lexer": "r",
   "version": "3.6.1"
  }
 },
 "nbformat": 4,
 "nbformat_minor": 2
}
