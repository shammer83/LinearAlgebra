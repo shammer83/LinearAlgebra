{
 "cells": [
  {
   "cell_type": "markdown",
   "metadata": {},
   "source": [
    "# 3.14\n",
    "\n",
    "given: Compute the determinants by cofactor expansions. At each step, choose are row or column that involves the least amount of computation \n",
    "\n",
    "$\\begin{bmatrix}6&3&2&4&0\\\\0&0&-4&1&0\\\\8&-5&6&7&1\\\\2&0&0&0&0\\\\4&2&3&2&0\\end{bmatrix}$\n",
    "\n"
   ]
  },
  {
   "cell_type": "markdown",
   "metadata": {},
   "source": [
    "Solution: \n",
    "\n",
    "Step 1:  choose row 4, column 1\n",
    "\n",
    "$\\begin{bmatrix}6&3&2&4&0\\\\0&0&-4&1&0\\\\8&-5&6&7&1\\\\2&0&0&0&0\\\\4&2&3&2&0\\end{bmatrix} = (-1)^{4+1}(2) \\begin{bmatrix}3&2&4&0\\\\0&-4&1&0\\\\-5&6&7&1\\\\2&3&2&0\\end{bmatrix}$\n"
   ]
  },
  {
   "cell_type": "markdown",
   "metadata": {},
   "source": [
    "Step 2: choose column 4, row 3\n",
    "\n",
    "$(-1)^{4+1}(2) \\begin{bmatrix}3&2&4&0\\\\0&-4&1&0\\\\-5&6&7&1\\\\2&3&2&0\\end{bmatrix} = -2(-1)^{3+4}(1) \\begin{bmatrix}3&2&4\\\\0&-4&1\\\\2&3&2\\end{bmatrix}$\n",
    "\n",
    "$= 2 \\begin{bmatrix}3&2&4\\\\0&-4&1\\\\2&3&2\\end{bmatrix}$"
   ]
  },
  {
   "cell_type": "markdown",
   "metadata": {},
   "source": [
    "Step 3:  chose column 1, row 1 \n",
    "\n",
    "= $2 \\{(-1)^{1+1}(3)\\begin{bmatrix}-4&1\\\\3&2\\end{bmatrix}+(-1)^{3+1}(2)\\begin{bmatrix}2&4\\\\-4&1\\end{bmatrix}\\}$\n",
    "\n",
    "= $2 \\{(3)\\begin{bmatrix}-4&1\\\\3&2\\end{bmatrix}+(2)\\begin{bmatrix}2&4\\\\-4&1\\end{bmatrix}\\}$\n",
    "\n",
    "= $2 \\{(3)(-8-3)+(2)(2+16)\\}$\n",
    "\n",
    "= `6`"
   ]
  },
  {
   "cell_type": "markdown",
   "metadata": {},
   "source": [
    "# 3.18"
   ]
  },
  {
   "cell_type": "markdown",
   "metadata": {},
   "source": [
    "Given: Add the downward diagonal producs and subtract the upward products to determine the determinants.  Warning: this trick does not generalize to 4x4 and larger matrices\n",
    "\n",
    "$\\begin{bmatrix}1&3&4\\\\2&3&1\\\\3&3&2\\end{bmatrix}$"
   ]
  },
  {
   "cell_type": "markdown",
   "metadata": {},
   "source": [
    "Solution:\n",
    "\n",
    "$\\begin{bmatrix}1&3&4\\\\2&3&1\\\\3&3&2\\end{bmatrix}\\begin{matrix}1&3\\\\2&3\\\\3&3\\end{matrix}$\n",
    "\n",
    "$(1x3x2)+ (3x1x3)+ (4x2x3) - (3x3x4)-(3x1x1)-(2x2x3)$\n",
    "\n",
    "= `-12`"
   ]
  },
  {
   "cell_type": "code",
   "execution_count": null,
   "metadata": {},
   "outputs": [],
   "source": []
  }
 ],
 "metadata": {
  "kernelspec": {
   "display_name": "R",
   "language": "R",
   "name": "ir"
  },
  "language_info": {
   "codemirror_mode": "r",
   "file_extension": ".r",
   "mimetype": "text/x-r-source",
   "name": "R",
   "pygments_lexer": "r",
   "version": "3.6.1"
  }
 },
 "nbformat": 4,
 "nbformat_minor": 2
}
