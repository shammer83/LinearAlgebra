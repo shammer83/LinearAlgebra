{
 "cells": [
  {
   "cell_type": "markdown",
   "metadata": {},
   "source": [
    "                                                                                            Derek Haynes\n",
    "                                                                                            HW 1.3\n",
    "                                                                                            Math 303"
   ]
  },
  {
   "cell_type": "markdown",
   "metadata": {},
   "source": [
    "# 1.3.12\n",
    "\n",
    "#### Given: \n",
    "\n",
    "$a_1 = \\begin{bmatrix} 1\\\\-2\\\\0\\end{bmatrix}$ , $a_2 = \\begin{bmatrix} 0\\\\5\\\\5\\end{bmatrix}$ , $a_3 = \\begin{bmatrix} 2\\\\0\\\\8\\end{bmatrix}$,  $b = \\begin{bmatrix} -5\\\\11\\\\-7\\end{bmatrix}$\n",
    "        "
   ]
  },
  {
   "cell_type": "markdown",
   "metadata": {},
   "source": [
    "####  determine if $x_1a_1 + x_2a_2 + x_3a_3 = b$"
   ]
  },
  {
   "cell_type": "markdown",
   "metadata": {},
   "source": [
    "#### rewriten as vector equations:\n",
    "\n",
    "$\\begin{matrix} \n",
    "x_1 + 2x_3 = -5\\\\\n",
    "-2x_1 + 5x_2 = 11\\\\\n",
    "5x_2 + 8x_3 = -7\\end{matrix}$\n",
    "\n",
    "#### rewriten as an augmented matrix\n",
    "\n",
    "$\\begin{bmatrix} \n",
    "1 & 0 &2 & -5\\\\\n",
    "-2 & 5 & 0 & 11\\\\\n",
    "0 & 5 & 8 & -7\\end{bmatrix}$\n"
   ]
  },
  {
   "cell_type": "markdown",
   "metadata": {},
   "source": [
    "#### Row reduce by\n",
    "\n",
    "1.  Add $2*R_1 + R_2$\n",
    "2.  Add $-1*R_1 + R_3$\n",
    "3.  $\\frac{1}{4}*R_3$\n",
    "4. $-4R_3 + R_2$\n",
    "5. $-2R_3 + R_1$\n",
    "6. $\\frac{1}{5}R_2$\n",
    "\n",
    "#### to get reduced aug. matrix of \n",
    "\n",
    "$\\begin{bmatrix}\n",
    "1&0&0&-1\\\\\n",
    "0&1&0&9/5\\\\\n",
    "0&0&1&-2\\end{bmatrix}$\n",
    "\n",
    "#### Solution:\n",
    "$x_1  = -1, x_2 = 9/5, x_3 = -2$  \n",
    "\n",
    "$-1 * \\begin{bmatrix} 1\\\\-2\\\\0\\end{bmatrix} + 9/5 * \\begin{bmatrix} 0\\\\5\\\\5\\end{bmatrix} + -2* \\begin{bmatrix} 2\\\\0\\\\8\\end{bmatrix} = \\begin{bmatrix} -5\\\\11\\\\-7\\end{bmatrix}$\n"
   ]
  },
  {
   "cell_type": "code",
   "execution_count": null,
   "metadata": {},
   "outputs": [],
   "source": [
    "\n",
    "\n",
    "\n",
    "\n",
    "\n"
   ]
  },
  {
   "cell_type": "markdown",
   "metadata": {},
   "source": [
    "# 1.3.14\n",
    "\n",
    "#### Given:\n",
    "\n",
    "$A = \\begin{bmatrix} 1&-2&-6 \\\\ 0&3&7\\\\1&-2&5\\end{bmatrix},  b = \\begin{bmatrix} 11\\\\-5\\\\9\\end{bmatrix}$\n",
    "\n",
    "#### Determine if b is a linear combination of the matrix A\n",
    "\n",
    "#### First create the augmented matrix\n",
    "\n",
    "$\\begin{bmatrix}\n",
    "1&-2&-6&11\\\\\n",
    "0&3&7&-5\\\\\n",
    "1&-2&5&9\\end{bmatrix}$\n",
    "\n",
    "#### Then reduce\n",
    "\n",
    "1. $R_1 + R_2$\n",
    "2. $\\frac{1}{11}R_3$\n",
    "3. $-7R_3 + R_2$\n",
    "4. $6R_3 + R_1$\n",
    "5. $\\frac{1}{3}R_3$\n",
    "6. $2R_2 + R_1$\n",
    "\n",
    "\n",
    "$\\begin{bmatrix}\n",
    "1&0&0&\\frac{245}{33}\\\\\n",
    "0&1&0&\\frac{-41}{33}\\\\\n",
    "0&0&1&\\frac{-2}{11}\n",
    "\\end{bmatrix}$\n",
    "\n",
    "#### Solution\n",
    "$x_1 = \\frac{245}{33}, x_2 = \\frac{-41}{33}, x_3 = \\frac{-2}{11}$"
   ]
  },
  {
   "cell_type": "markdown",
   "metadata": {},
   "source": [
    "\n",
    "$\\frac{245}{33}\\begin{bmatrix}1\\\\0\\\\1\\end{bmatrix} + \\frac{-41}{33}\\begin{bmatrix}-2\\\\3\\\\-2\\end{bmatrix} + \\frac{-2}{11}\\begin{bmatrix} -6\\\\7\\\\5\\end{bmatrix} = \\begin {bmatrix} 11\\\\-5\\\\9 \\end{bmatrix}$\n",
    "\n",
    "\n"
   ]
  },
  {
   "cell_type": "code",
   "execution_count": null,
   "metadata": {},
   "outputs": [],
   "source": [
    "\n",
    "\n",
    "\n"
   ]
  },
  {
   "cell_type": "markdown",
   "metadata": {},
   "source": [
    "# 1.3.16"
   ]
  },
  {
   "cell_type": "markdown",
   "metadata": {},
   "source": [
    "#### Given : \n",
    "\n",
    "$v_1 = \\begin{bmatrix} 3\\\\0\\\\2\\end{bmatrix}, v_2 = \\begin{bmatrix}-2\\\\0\\\\3\\end{bmatrix}$ "
   ]
  },
  {
   "cell_type": "markdown",
   "metadata": {},
   "source": [
    "#### Solution:\n",
    "\n",
    "The $span\\{v_1, v_2\\}$ plane of $x_1v_1 + x_2v_2 = b$\n",
    "\n",
    "\n",
    "1. when x_1 = 1 and x_2 = 0\n",
    "\n",
    "b = $\\begin{bmatrix} 3 \\\\ 0 \\\\2\\end{bmatrix}$ \n",
    "\n",
    "2. x_1 = 0 and x_2 = 1\n",
    "\n",
    "b = $\\begin{bmatrix} -2 \\\\ 0 \\\\3\\end{bmatrix}$ \n",
    "\n",
    "3. x_1 = -1 and x_2 = 0\n",
    "\n",
    "b = $\\begin{bmatrix} -3 \\\\ 0 \\\\-2\\end{bmatrix}$ \n",
    "\n",
    "4. when x_1 = 0 and x_2 = -1\n",
    "\n",
    "b = $\\begin{bmatrix} 2 \\\\ 0 \\\\-3\\end{bmatrix}$ \n",
    "\n",
    "5. when x_1 = 1 and x_2 = 1\n",
    "\n",
    "b = $\\begin{bmatrix} 1 \\\\ 0 \\\\5\\end{bmatrix}$ "
   ]
  },
  {
   "cell_type": "code",
   "execution_count": null,
   "metadata": {},
   "outputs": [],
   "source": [
    "\n",
    "\n",
    "\n",
    "\n"
   ]
  }
 ],
 "metadata": {
  "kernelspec": {
   "display_name": "Python 3",
   "language": "python",
   "name": "python3"
  },
  "language_info": {
   "codemirror_mode": {
    "name": "ipython",
    "version": 3
   },
   "file_extension": ".py",
   "mimetype": "text/x-python",
   "name": "python",
   "nbconvert_exporter": "python",
   "pygments_lexer": "ipython3",
   "version": "3.7.3"
  }
 },
 "nbformat": 4,
 "nbformat_minor": 2
}
