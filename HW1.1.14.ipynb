{
 "cells": [
  {
   "cell_type": "markdown",
   "metadata": {},
   "source": [
    "                                                                                                Derek Haynes\n",
    "                                                                                                Homework 1.1\n",
    "                                                                                                Math 303\n",
    "                                                                                   "
   ]
  },
  {
   "cell_type": "markdown",
   "metadata": {},
   "source": [
    "## 1.1.14 Solve the system of equations:"
   ]
  },
  {
   "cell_type": "markdown",
   "metadata": {},
   "source": [
    "#### Step 1: Convert system of equations into Coefficient Matrix\n",
    "$\\begin{matrix}\n",
    " x_1-3x_2= 5\\\\ \n",
    " -x_1+x_2+5x_3 = 2 \\\\ \n",
    " x_2+x_3 = 5\n",
    "\\end{matrix} = \\begin{bmatrix}  1&-3&0&5 \\\\ -1&1&5&2\\\\0&1&1&0\\end{bmatrix} %0$"
   ]
  },
  {
   "cell_type": "markdown",
   "metadata": {},
   "source": [
    "#### Step 2:  Add row 1 to row 2 and replace"
   ]
  },
  {
   "cell_type": "markdown",
   "metadata": {},
   "source": [
    "$\\begin{bmatrix}  1&-3&0&5 \\\\ 0&-2&5&7\\\\0&1&1&0\\end{bmatrix}$"
   ]
  },
  {
   "cell_type": "markdown",
   "metadata": {},
   "source": [
    "#### Step 3: Swap row 3 with row 2\n",
    "\n",
    "$\\begin{bmatrix}  1&-3&0&5 \\\\0&1&1&0\\\\ 0&-2&5&7\\end{bmatrix}$"
   ]
  },
  {
   "cell_type": "markdown",
   "metadata": {},
   "source": [
    "#### Add 2x( row 2) to row 3\n",
    "\n",
    "$\\begin{bmatrix}  1&-3&0&5 \\\\0&1&1&0\\\\ 0&0&7&7\\end{bmatrix}$\n"
   ]
  },
  {
   "cell_type": "markdown",
   "metadata": {},
   "source": [
    "#### Divide row 3 by 7\n",
    "\n",
    "$\\begin{bmatrix}  1&-3&0&5 \\\\0&1&1&0\\\\ 0&0&1&1\\end{bmatrix}$"
   ]
  },
  {
   "cell_type": "markdown",
   "metadata": {},
   "source": [
    "#### Subtract row 3 from row 2\n",
    "\n",
    "$\\begin{bmatrix}  1&-3&0&5 \\\\0&1&0&-1\\\\ 0&0&1&1\\end{bmatrix}$"
   ]
  },
  {
   "cell_type": "markdown",
   "metadata": {},
   "source": [
    "#### Add 3x(row 2) to row 1\n",
    "\n",
    "$\\begin{bmatrix}  1&0&0&2 \\\\0&1&0&-1\\\\ 0&0&1&1\\end{bmatrix}$"
   ]
  },
  {
   "cell_type": "markdown",
   "metadata": {},
   "source": [
    "### Solution is (2, -1, 1)"
   ]
  },
  {
   "cell_type": "markdown",
   "metadata": {},
   "source": [
    "# 1.1.30\n",
    "\n",
    "Find the elementary row operation that transforms the first matrix into the second, and then find the reverse row operation that transforms the second matrix into the first."
   ]
  },
  {
   "cell_type": "markdown",
   "metadata": {},
   "source": [
    "$\\begin{bmatrix}1&3&-4 \\\\0&-2&6\\\\ 0&-5&9\\end{bmatrix}$ , $\\begin{bmatrix}1&3&-4\\\\0&1&-3\\\\0&-5&9\\end{bmatrix}$"
   ]
  },
  {
   "cell_type": "markdown",
   "metadata": {},
   "source": [
    "### Solution\n",
    "\n",
    "To transform matrix 1 to matrix 2\n",
    "`divide row 2 by -2 for matrix 1`\n",
    "\n",
    "To reverse the row operation from matrix 2 to matrix 1 \n",
    "`multiply row 2 in matrix 2, by -2`\n"
   ]
  },
  {
   "cell_type": "code",
   "execution_count": null,
   "metadata": {},
   "outputs": [],
   "source": []
  }
 ],
 "metadata": {
  "kernelspec": {
   "display_name": "Python 3",
   "language": "python",
   "name": "python3"
  },
  "language_info": {
   "codemirror_mode": {
    "name": "ipython",
    "version": 3
   },
   "file_extension": ".py",
   "mimetype": "text/x-python",
   "name": "python",
   "nbconvert_exporter": "python",
   "pygments_lexer": "ipython3",
   "version": "3.7.4"
  }
 },
 "nbformat": 4,
 "nbformat_minor": 2
}
