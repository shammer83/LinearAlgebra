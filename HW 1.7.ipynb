{
 "cells": [
  {
   "cell_type": "markdown",
   "metadata": {},
   "source": [
    "                                                                                        Derek Haynes\n",
    "                                                                                        Math 303\n",
    "                                                                                        HW 1.7"
   ]
  },
  {
   "cell_type": "markdown",
   "metadata": {},
   "source": [
    "# 1.7.2"
   ]
  },
  {
   "cell_type": "markdown",
   "metadata": {},
   "source": [
    "Given: Determine if the vectors are linearly independent.  Justify each answer. \n",
    "    \n",
    "$\\begin{bmatrix}0\\\\0\\\\2\\end{bmatrix}, \\begin{bmatrix}0\\\\5\\\\-8\\end{bmatrix},\\begin{bmatrix}-3\\\\4\\\\1\\end{bmatrix}$"
   ]
  },
  {
   "cell_type": "markdown",
   "metadata": {},
   "source": [
    "Solution:  The vectors are `linearly independent` because there are 3 pivot points in the augmented matrix and no free - variables.  Therefore Ax = 0 only has the trivial solution. "
   ]
  },
  {
   "cell_type": "markdown",
   "metadata": {},
   "source": [
    "$\\begin{bmatrix}0&0&-3&0\\\\0&5&4&0\\\\2&-8&1&0\\end{bmatrix} = \\begin{bmatrix}2&-8&1&0\\\\0&5&4&0\\\\0&0&-3&0\\end{bmatrix}$"
   ]
  },
  {
   "cell_type": "markdown",
   "metadata": {},
   "source": [
    "# 1.7.4"
   ]
  },
  {
   "cell_type": "markdown",
   "metadata": {},
   "source": [
    "Given: Determine if the vectors are linearly independent.  Justify each answer. "
   ]
  },
  {
   "cell_type": "markdown",
   "metadata": {},
   "source": [
    "$\\begin{bmatrix}-1\\\\4\\end{bmatrix}, \\begin{bmatrix}-2\\\\-8\\end{bmatrix}$"
   ]
  },
  {
   "cell_type": "markdown",
   "metadata": {},
   "source": [
    "Solution:  The vectors are `linearly independent` because neither vector is a scalar multiple of each other"
   ]
  },
  {
   "cell_type": "markdown",
   "metadata": {},
   "source": [
    "# 1.7.6"
   ]
  },
  {
   "cell_type": "markdown",
   "metadata": {},
   "source": [
    "Given: Determine if the columns of the matrix form a linearly independent set.  Justify each answer.\n",
    "\n",
    "$\\begin{bmatrix}-4&-3&0\\\\0&-1&4\\\\1&0&3\\\\5&4&6\\end{bmatrix}$"
   ]
  },
  {
   "cell_type": "markdown",
   "metadata": {},
   "source": [
    "Solution: \n",
    "\n",
    "$\\begin{bmatrix}-4&-3&0&0\\\\0&-1&4&0\\\\1&0&3&0\\\\5&4&6&0\\end{bmatrix}$"
   ]
  },
  {
   "cell_type": "markdown",
   "metadata": {},
   "source": [
    "Step 1. Interchange $R_1$ with $R_3$\n",
    "\n",
    "Step 2. $R_3 \\rightarrow 4R_1 + R_3$\n",
    "\n",
    "Step 3. $R_4 \\rightarrow -5R_1 + R_4$\n",
    "\n",
    "Step 4. $R_2 \\rightarrow -1R_2$\n",
    "\n",
    "Step 5. $R_3 \\rightarrow 3R_2 + R_3$\n",
    "\n",
    "Step 6. Interchange $R_3$ and $R_4$\n",
    "\n",
    "Step 7. Divide $R_3$ by 7\n",
    "\n",
    "Step 8. $R_2 \\rightarrow 4R_3 + R_2$\n",
    "\n",
    "Step 9 $R_1 \\rightarrow -3R_3 + R_1$\n"
   ]
  },
  {
   "cell_type": "markdown",
   "metadata": {},
   "source": [
    "$\\begin{bmatrix}1&0&0&0\\\\0&1&0&0\\\\0&0&1&0\\\\0&0&0&0\\end{bmatrix}$"
   ]
  },
  {
   "cell_type": "markdown",
   "metadata": {},
   "source": [
    "From the matrix you can see that the columns in the matrix are `linearly independent` because there are no free variables. It only has the trivial solution to make it homogenous"
   ]
  },
  {
   "cell_type": "markdown",
   "metadata": {},
   "source": [
    "# 1.7.15"
   ]
  },
  {
   "cell_type": "markdown",
   "metadata": {},
   "source": [
    "Given: Determine by inspection whether the vectors are linearly dependent\n",
    "\n",
    "$\\begin{bmatrix}5\\\\1\\end{bmatrix},\\begin{bmatrix}2\\\\8\\end{bmatrix}, \\begin{bmatrix}1\\\\3\\end{bmatrix}, \\begin{bmatrix}1,\\\\-7\\end{bmatrix}$"
   ]
  },
  {
   "cell_type": "markdown",
   "metadata": {},
   "source": [
    "Solution: The set contains 4 vectors, each of which only has 3 entreies.  So the set is `linearly dependent` by Theorem 8. "
   ]
  },
  {
   "cell_type": "markdown",
   "metadata": {},
   "source": [
    "# 1.7.16\n",
    "\n",
    "Given: Determine by inspection whether the vectors are linearly dependent\n",
    "\n",
    "$\\begin{bmatrix}4\\\\-2\\\\6\\end{bmatrix}, \\begin{bmatrix}6\\\\-3\\\\9\\end{bmatrix}$"
   ]
  },
  {
   "cell_type": "markdown",
   "metadata": {},
   "source": [
    "Solution: The vectors are `linearly dependent` since one vector is a mutlipe of the other "
   ]
  },
  {
   "cell_type": "markdown",
   "metadata": {},
   "source": [
    "# 1.7.17"
   ]
  },
  {
   "cell_type": "markdown",
   "metadata": {},
   "source": [
    "Given: Determine by inspection whether the vectors are linearly dependent\n",
    "    \n",
    "$\\begin{bmatrix}3\\\\5\\\\-1\\end{bmatrix}, \\begin{bmatrix}0\\\\0\\\\0\\end{bmatrix}, \\begin{bmatrix}-6\\\\5\\\\4\\end{bmatrix}$"
   ]
  },
  {
   "cell_type": "markdown",
   "metadata": {},
   "source": [
    "Solution:  Since the Zero vector is in the set, the set is `linearly dependent` according to Theorem 9. "
   ]
  },
  {
   "cell_type": "code",
   "execution_count": null,
   "metadata": {},
   "outputs": [],
   "source": []
  }
 ],
 "metadata": {
  "kernelspec": {
   "display_name": "Python 3",
   "language": "python",
   "name": "python3"
  },
  "language_info": {
   "codemirror_mode": {
    "name": "ipython",
    "version": 3
   },
   "file_extension": ".py",
   "mimetype": "text/x-python",
   "name": "python",
   "nbconvert_exporter": "python",
   "pygments_lexer": "ipython3",
   "version": "3.7.3"
  }
 },
 "nbformat": 4,
 "nbformat_minor": 2
}
