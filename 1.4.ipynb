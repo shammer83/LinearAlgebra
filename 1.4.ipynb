{
 "cells": [
  {
   "cell_type": "markdown",
   "metadata": {},
   "source": [
    "# 1.4.7\n",
    "\n",
    "#### Given: \n",
    "\n",
    "$x_1\\begin{bmatrix}4\\\\-1\\\\7\\\\-4\\end{bmatrix} + x_2 \\begin{bmatrix}-5\\\\3\\\\-5\\\\1\\end{bmatrix}+x_2\\begin{bmatrix}7\\\\-8\\\\0\\\\2\\end{bmatrix} = \\begin{bmatrix}6\\\\-8\\\\0\\\\7\\end{bmatrix}$ \n",
    "\n",
    "#### Use the definition of Ax to write the matrix equation as a vector equation\n",
    "\n",
    "#### Solution:\n",
    "$\\begin{bmatrix}4&-5&7\\\\\n",
    "-1&3&-8\\\\\n",
    "7&-5&0\\\\\n",
    "-4&1&2\\end{bmatrix} \n",
    "\\begin{bmatrix}x_1\\\\ x_2\\\\x_3\\end{bmatrix} = \\begin{bmatrix} 6\\\\-8\\\\0\\\\-7\\end{bmatrix}$ "
   ]
  },
  {
   "cell_type": "markdown",
   "metadata": {},
   "source": [
    "# 1.4.10"
   ]
  },
  {
   "cell_type": "code",
   "execution_count": 1,
   "metadata": {},
   "outputs": [],
   "source": [
    "# 1.4.12"
   ]
  },
  {
   "cell_type": "code",
   "execution_count": null,
   "metadata": {},
   "outputs": [],
   "source": [
    "#1.4.14"
   ]
  },
  {
   "cell_type": "code",
   "execution_count": null,
   "metadata": {},
   "outputs": [],
   "source": [
    "#1.4.18"
   ]
  }
 ],
 "metadata": {
  "kernelspec": {
   "display_name": "Python 3",
   "language": "python",
   "name": "python3"
  },
  "language_info": {
   "codemirror_mode": {
    "name": "ipython",
    "version": 3
   },
   "file_extension": ".py",
   "mimetype": "text/x-python",
   "name": "python",
   "nbconvert_exporter": "python",
   "pygments_lexer": "ipython3",
   "version": "3.7.3"
  }
 },
 "nbformat": 4,
 "nbformat_minor": 2
}
