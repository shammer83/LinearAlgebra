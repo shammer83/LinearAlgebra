{
 "cells": [
  {
   "cell_type": "markdown",
   "metadata": {},
   "source": [
    "# 1.4.7\n",
    "\n",
    "#### Given: \n",
    "\n",
    "$x_1\\begin{bmatrix}4\\\\-1\\\\7\\\\-4\\end{bmatrix} + x_2 \\begin{bmatrix}-5\\\\3\\\\-5\\\\1\\end{bmatrix}+x_2\\begin{bmatrix}7\\\\-8\\\\0\\\\2\\end{bmatrix} = \\begin{bmatrix}6\\\\-8\\\\0\\\\7\\end{bmatrix}$ \n",
    "\n",
    "#### Use the definition of Ax to write the matrix equation as a vector equation\n",
    "\n",
    "#### Solution:\n",
    "$\\begin{bmatrix}4&-5&7\\\\\n",
    "-1&3&-8\\\\\n",
    "7&-5&0\\\\\n",
    "-4&1&2\\end{bmatrix} \n",
    "\\begin{bmatrix}x_1\\\\ x_2\\\\x_3\\end{bmatrix} = \\begin{bmatrix} 6\\\\-8\\\\0\\\\-7\\end{bmatrix}$ "
   ]
  },
  {
   "cell_type": "markdown",
   "metadata": {},
   "source": [
    "# 1.4.10\n",
    "\n",
    "#### given: \n",
    "\n",
    "$\\begin{matrix} 8x_1 - x_2 = 4 \\\\ 5x_1 + 4x_2 = 1 \\\\ x_1 - 3x_2 =2 \\end{matrix}$\n",
    "\n",
    "#### Write as a Vector equation then as a Matrix equation. \n",
    "\n",
    "#### Solution:\n",
    "\n",
    "##### Vector Equation\n",
    "$x_1\\begin{bmatrix}8\\\\5\\\\1\\end{bmatrix} + x_2\\begin{bmatrix}-1\\\\4\\\\-3\\end{bmatrix} = \\begin{bmatrix}4\\\\1\\\\2\\end{bmatrix}$\n",
    "\n",
    "##### Matrix Equation\n",
    "$\\begin{bmatrix} 8 &-1\\\\5&4\\\\1&-3\\end{bmatrix} \\begin{bmatrix}x_1\\\\x_2\\end{bmatrix} = \\begin{bmatrix} 4 \\\\ 1\\\\ 2\\end{bmatrix}$"
   ]
  },
  {
   "cell_type": "markdown",
   "metadata": {},
   "source": [
    "# 1.4.12\n",
    "\n",
    "#### Given : \n",
    "\n",
    "$ A = \\begin{bmatrix} 1&2&1\\\\-3&-1&2\\\\0&5&3\\end{bmatrix}, b = \\begin{bmatrix} 0\\\\1\\\\-1\\end{bmatrix}$ \n",
    "\n",
    "Write the Augmented matrix for the linear system that corresponds to the matrix equation Ax = b.  Then Solve the system and write the solution as a vector\n",
    "\n",
    "#### Solution:\n",
    "The augmented matrix \n",
    "$\\begin{bmatrix} 1&2&1&0\\\\-3&-1&2&1\\\\0&5&3&-1\\end{bmatrix}$\n",
    "\n",
    "Step 1. $\\begin{align} R_2 \\longrightarrow R_2+3R_1 \\end{align}$\n",
    "\n",
    "Step 2. $R_2 \\longrightarrow \\frac{1}{5}R_2$\n",
    "\n",
    "Step 3. $R_1 \\longrightarrow -2R_2+R_1$\n",
    "\n",
    "Step 4.  $R_3 \\longrightarrow -5R_2 + R_3$\n",
    "\n",
    "Step 5. $R_3 \\longrightarrow \\frac{-1}{2}R_3$\n",
    "\n",
    "Step 6. $R_1 \\longrightarrow R_1+R_3$\n",
    "\n",
    "Step 7. $R_1 \\longrightarrow -R_3+R_2$\n",
    "\n",
    "\n",
    "#### Augmented matrix \n",
    "\n",
    "$\\begin{bmatrix}1&0&0&\\frac{3}{5}\\\\0&1&0&-\\frac{4}{5}\\\\0&0&1&1\\end{bmatrix}$\n",
    "\n",
    "$X = \\begin{bmatrix} x_1\\\\x_2\\\\x_3\\end{bmatrix} = \\begin{bmatrix} \\frac{3}{5}\\\\ -\\frac{4}{5} \\\\ 1\\end{bmatrix}$"
   ]
  },
  {
   "cell_type": "markdown",
   "metadata": {},
   "source": [
    "# 1.4.14\n",
    "\n",
    "#### Given: \n",
    "\n",
    "$u = \\begin{bmatrix}2\\\\-3\\\\2\\end{bmatrix} and A = \\begin{bmatrix} 5&8&7\\\\0&1&-1\\\\1&3&0\\end{bmatrix}$  \n",
    "\n",
    "Determine is in the subset of R3  spanned by the columns of A? \n",
    "\n",
    "#### Solution: \n",
    "\n",
    "The Augmented matrix is \n",
    "\n",
    "[AU] = $\\begin{bmatrix} 5&8&7&2\\\\0&1&-1&-3\\\\1&3&0&2\\end{bmatrix}$\n",
    "\n",
    "in Reduced Echolon form it becomes \n",
    "\n",
    "$\\begin{bmatrix}1&0&3&0\\\\0&1&-1&0\\\\0&0&0&1\\end{bmatrix}$\n",
    "\n",
    "The linear system is not consisten since the last row has the form $\\begin{bmatrix} 0&0&0&1\\end{bmatrix}$\n",
    "therefore vector U is not in the span of A"
   ]
  },
  {
   "cell_type": "markdown",
   "metadata": {},
   "source": [
    "# 1.4.18"
   ]
  },
  {
   "cell_type": "markdown",
   "metadata": {},
   "source": [
    "#### Given:\n",
    "\n",
    "B = $\\begin{bmatrix}1&3&-2&2\\\\0&1&1&-5\\\\ 1& 2&-3&7\\\\-2&-8&2&-1\\end{bmatrix}$"
   ]
  },
  {
   "cell_type": "markdown",
   "metadata": {},
   "source": [
    "#### Solution \n",
    "\n",
    "Row Reduce B to form \n",
    "\n",
    "B = $\\begin{bmatrix}1&0&-5&0\\\\0&1&1&0\\\\ 0& 0&0&1\\\\0&0&0&0\\end{bmatrix}$\n",
    "\n",
    "According to Theorem 4 The columns of B do not span R4 because there isn't a pivot position in each row. \n",
    "\n",
    "Additionally Since only 3 of the rows contain pivot positions and one of the rows has the form $\\begin{bmatrix} 0&0&0&1\\end{bmatrix}$ the system is in consistent and the matrix equation Bx = y doesn't have a solution for each y in R4"
   ]
  },
  {
   "cell_type": "code",
   "execution_count": null,
   "metadata": {},
   "outputs": [],
   "source": []
  }
 ],
 "metadata": {
  "kernelspec": {
   "display_name": "Python 3",
   "language": "python",
   "name": "python3"
  },
  "language_info": {
   "codemirror_mode": {
    "name": "ipython",
    "version": 3
   },
   "file_extension": ".py",
   "mimetype": "text/x-python",
   "name": "python",
   "nbconvert_exporter": "python",
   "pygments_lexer": "ipython3",
   "version": "3.6.9"
  }
 },
 "nbformat": 4,
 "nbformat_minor": 2
}
